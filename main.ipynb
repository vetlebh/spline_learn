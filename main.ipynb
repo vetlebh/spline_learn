{
  "nbformat": 4,
  "nbformat_minor": 0,
  "metadata": {
    "kernelspec": {
      "display_name": "Python 3",
      "language": "python",
      "name": "python3"
    },
    "language_info": {
      "codemirror_mode": {
        "name": "ipython",
        "version": 3
      },
      "file_extension": ".py",
      "mimetype": "text/x-python",
      "name": "python",
      "nbconvert_exporter": "python",
      "pygments_lexer": "ipython3",
      "version": "3.7.7"
    },
    "colab": {
      "name": "main.ipynb",
      "provenance": [],
      "collapsed_sections": [],
      "toc_visible": true
    },
    "accelerator": "TPU"
  },
  "cells": [
    {
      "cell_type": "code",
      "metadata": {
        "id": "LN5Q9CdHuiou",
        "colab_type": "code",
        "colab": {}
      },
      "source": [
        "%load_ext autoreload\n",
        "%autoreload 2"
      ],
      "execution_count": null,
      "outputs": []
    },
    {
      "cell_type": "code",
      "metadata": {
        "id": "466w4T72vfQ0",
        "colab_type": "code",
        "colab": {
          "resources": {
            "http://localhost:8080/nbextensions/google.colab/files.js": {
              "data": "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",
              "ok": true,
              "headers": [
                [
                  "content-type",
                  "application/javascript"
                ]
              ],
              "status": 200,
              "status_text": ""
            }
          },
          "base_uri": "https://localhost:8080/",
          "height": 112
        },
        "outputId": "c31f1cd6-cfea-4ca6-e5b4-2765755144a5"
      },
      "source": [
        "from google.colab import files\n",
        "files.upload()\n",
        "# choose the file on your computer to upload it then\n",
        "#import data"
      ],
      "execution_count": null,
      "outputs": [
        {
          "output_type": "display_data",
          "data": {
            "text/html": [
              "\n",
              "     <input type=\"file\" id=\"files-6929bb21-778f-4b30-b8cd-02e5470d0517\" name=\"files[]\" multiple disabled />\n",
              "     <output id=\"result-6929bb21-778f-4b30-b8cd-02e5470d0517\">\n",
              "      Upload widget is only available when the cell has been executed in the\n",
              "      current browser session. Please rerun this cell to enable.\n",
              "      </output>\n",
              "      <script src=\"/nbextensions/google.colab/files.js\"></script> "
            ],
            "text/plain": [
              "<IPython.core.display.HTML object>"
            ]
          },
          "metadata": {
            "tags": []
          }
        },
        {
          "output_type": "stream",
          "text": [
            "Saving get_data.py to get_data.py\n"
          ],
          "name": "stdout"
        },
        {
          "output_type": "execute_result",
          "data": {
            "text/plain": [
              "{'get_data.py': b\"import numpy as np\\nimport os\\nimport tensorflow as tf\\n\\nfrom skimage.transform import resize\\nfrom sklearn.model_selection import train_test_split\\n\\n\\ndef get_dataset(which='local', nr_patients=5, BATCH_SIZE=32, test_size=0.1, val_size=0.1, random_state=69):\\n\\n    # Hyperparameters\\n    BATCH_SIZE = 32\\n    SHUFFLE_BUFFER_SIZE = 100\\n\\n    im_height = 256\\n    im_width = 256\\n\\n    if (which == 'colab'):\\n        training_path = '/content/drive/My Drive/Prosjektoppgave/training.nosync'\\n\\n    else:\\n        training_path = 'training.nosync'\\n\\n    img_name = 'image.npy'\\n    gt_name = 'gt.npy'\\n\\n    test_size = 0.1\\n    val_size = 0.1\\n    random_state = 69\\n\\n    max_slices = 15\\n\\n    walk = next(os.walk(training_path))[1]\\n\\n    X = np.zeros((len(walk)*max_slices, im_height, im_width, 1))\\n    y = np.zeros((len(walk)*max_slices, im_height, im_width, 1))\\n\\n    img_nr = 0\\n    sum_slices = 0\\n    patients_not_found = 0\\n\\n    # Load and preprocess data\\n    for ids in walk[:nr_patients]:\\n\\n        try:\\n            img = np.load(os.path.join(training_path, ids, img_name))\\n            gt = np.load(os.path.join(training_path, ids, gt_name))\\n            slices = img.shape[2]\\n\\n            for slice_nr in range(slices):\\n\\n                img_slice, gt_slice = img[:, :, slice_nr], gt[:, :, slice_nr]\\n                img_resized = resize(img_slice, (im_height, im_width, 1), mode = 'edge', preserve_range = True, anti_aliasing=True)\\n                gt_resized = resize(gt_slice, (im_height, im_width, 1), mode = 'edge', preserve_range = True, anti_aliasing=True)\\n\\n                # We are only interested in the classes 'heart' and 'background' for this experiment\\n                gt_resized = (gt_resized > 0.5).astype(np.uint8)\\n\\n                X[sum_slices, :, :, :] = img_resized/255.0\\n                y[sum_slices, :, :, :] = gt_resized\\n\\n                sum_slices +=1\\n        except:\\n            print(f'{ids} not found')\\n            patients_not_found += 1\\n            continue\\n\\n        if(img_nr%10 == 0):\\n            print(f'{img_nr} images and {sum_slices} slices loaded to array')\\n        img_nr += 1\\n    print(f'Image load complete. {img_nr} images and {sum_slices} slices loaded successfully. ')\\n\\n    X, y = X[:sum_slices, :, :, :], y[:sum_slices, :, :, :]\\n    print(X.shape, y.shape)\\n    print(np.unique(y))\\n\\n\\n    # Split train data and test data\\n    X_train, X_test, y_train, y_test = train_test_split(X, y, test_size=test_size, random_state=random_state)\\n\\n    # Split train data into train and valid\\n    X_train, X_valid, y_train, y_valid = train_test_split(X_train, y_train, test_size=val_size, random_state=random_state)\\n\\n    print(f'Training size: {X_train.shape[0]}, Validation size: {X_valid.shape[0]}, Test size: {X_test.shape[0]}')\\n\\n    # Generate tensorflow datasets\\n    train_dataset = tf.data.Dataset.from_tensor_slices((X_train, y_train))\\n    valid_dataset = tf.data.Dataset.from_tensor_slices((X_valid, y_valid))\\n    test_dataset = tf.data.Dataset.from_tensor_slices((X_test, y_test))\\n\\n    # Set BATCH_SIZE\\n    train_dataset = train_dataset.batch(BATCH_SIZE)\\n    valid_dataset = valid_dataset.batch(BATCH_SIZE)\\n    test_dataset = test_dataset.batch(BATCH_SIZE)\\n\\n    return train_dataset, valid_dataset, test_dataset\\n\"}"
            ]
          },
          "metadata": {
            "tags": []
          },
          "execution_count": 16
        }
      ]
    },
    {
      "cell_type": "code",
      "metadata": {
        "id": "NzDy6ivBuio3",
        "colab_type": "code",
        "colab": {}
      },
      "source": [
        "import tensorflow as tf\n",
        "import os\n",
        "import random\n",
        "import time\n",
        "import numpy as np\n",
        "import matplotlib.pyplot as plt\n",
        "\n",
        "from scipy.interpolate import BSpline\n",
        "from cv2 import floodFill\n",
        "\n",
        "from spline import Spline\n",
        "from network import get_model\n",
        "from get_data import get_dataset\n",
        "from utils import iou\n",
        "\n",
        "from skimage.transform import resize\n",
        "from sklearn.model_selection import train_test_split"
      ],
      "execution_count": null,
      "outputs": []
    },
    {
      "cell_type": "code",
      "metadata": {
        "id": "mQ9QwwHevrch",
        "colab_type": "code",
        "colab": {
          "base_uri": "https://localhost:8080/",
          "height": 34
        },
        "outputId": "14de4a08-13b9-4045-ec8b-4ad9ffce103f"
      },
      "source": [
        "if 'COLAB_TPU_ADDR' not in os.environ: \n",
        "  print('Not connected to TPU') \n",
        "else: \n",
        "  print(\"Connected to TPU\") "
      ],
      "execution_count": null,
      "outputs": [
        {
          "output_type": "stream",
          "text": [
            "Connected to TPU\n"
          ],
          "name": "stdout"
        }
      ]
    },
    {
      "cell_type": "code",
      "metadata": {
        "id": "Pcb2AuAdDVvp",
        "colab_type": "code",
        "colab": {
          "base_uri": "https://localhost:8080/",
          "height": 34
        },
        "outputId": "92fab03f-40bf-4d4c-84e7-11d61f346572"
      },
      "source": [
        "drive.mount(\"/content/drive\", force_remount=True)"
      ],
      "execution_count": null,
      "outputs": [
        {
          "output_type": "stream",
          "text": [
            "Mounted at /content/drive\n"
          ],
          "name": "stdout"
        }
      ]
    },
    {
      "cell_type": "code",
      "metadata": {
        "id": "myEi8E0byTXE",
        "colab_type": "code",
        "colab": {
          "base_uri": "https://localhost:8080/",
          "height": 122
        },
        "outputId": "995f83b5-ab78-472e-89cd-c3c128d8757a"
      },
      "source": [
        "from google.colab import drive\n",
        "drive.mount('/content/drive')"
      ],
      "execution_count": null,
      "outputs": [
        {
          "output_type": "stream",
          "text": [
            "Go to this URL in a browser: https://accounts.google.com/o/oauth2/auth?client_id=947318989803-6bn6qk8qdgf4n4g3pfee6491hc0brc4i.apps.googleusercontent.com&redirect_uri=urn%3aietf%3awg%3aoauth%3a2.0%3aoob&response_type=code&scope=email%20https%3a%2f%2fwww.googleapis.com%2fauth%2fdocs.test%20https%3a%2f%2fwww.googleapis.com%2fauth%2fdrive%20https%3a%2f%2fwww.googleapis.com%2fauth%2fdrive.photos.readonly%20https%3a%2f%2fwww.googleapis.com%2fauth%2fpeopleapi.readonly\n",
            "\n",
            "Enter your authorization code:\n",
            "··········\n",
            "Mounted at /content/drive\n"
          ],
          "name": "stdout"
        }
      ]
    },
    {
      "cell_type": "markdown",
      "metadata": {
        "id": "hwkAeJp_uio_",
        "colab_type": "text"
      },
      "source": [
        "### Generate Data"
      ]
    },
    {
      "cell_type": "code",
      "metadata": {
        "id": "6Eqi2e_DuipA",
        "colab_type": "code",
        "colab": {
          "base_uri": "https://localhost:8080/",
          "height": 102
        },
        "outputId": "f6777e5b-d396-43a9-d2c1-58d879be21d3"
      },
      "source": [
        "train_dataset, valid_dataset, test_dataset = get_dataset(which='colab', nr_patients=5, BATCH_SIZE=32, test_size=0.1,\n",
        "                                                         val_size=0.1, random_state=69)\n",
        "\n"
      ],
      "execution_count": null,
      "outputs": [
        {
          "output_type": "stream",
          "text": [
            "0 images and 8 slices loaded to array\n",
            "Image load complete. 5 images and 40 slices loaded successfully. \n",
            "(40, 256, 256, 1) (40, 256, 256, 1)\n",
            "[0. 1.]\n",
            "Training size: 32, Validation size: 4, Test size: 4\n"
          ],
          "name": "stdout"
        }
      ]
    },
    {
      "cell_type": "code",
      "metadata": {
        "id": "Qrs64P7euipG",
        "colab_type": "code",
        "colab": {}
      },
      "source": [
        "checkpoint_path = 'weights_1.h5'\n",
        "model_path = 'model_1.h5'"
      ],
      "execution_count": null,
      "outputs": []
    },
    {
      "cell_type": "markdown",
      "metadata": {
        "id": "vlLC5Bw-uipL",
        "colab_type": "text"
      },
      "source": [
        "### Help Functions"
      ]
    },
    {
      "cell_type": "code",
      "metadata": {
        "id": "uCyYe3MquipM",
        "colab_type": "code",
        "colab": {}
      },
      "source": [
        "\n",
        "\n",
        "def calc_intersect(point):\n",
        "    #cell_height = point[1]-int(point[1])\n",
        "    #return cell_height*255.0\n",
        "    return 255.0\n",
        "\n",
        "\n",
        "def calc_stepsize(nd, d, p_i):\n",
        "    \"\"\"\n",
        "    Based on theroretical estimate, see report\n",
        "    \"\"\"\n",
        "    return 1.0/((nd+d)*np.max(np.sum(p_i, axis=0)))\n",
        "    \n",
        "\n",
        "\n",
        "def floodFill_start(img, row):\n",
        "    \"\"\"\n",
        "    Should be cleaned\n",
        "    \"\"\"\n",
        "    \"\"\"\n",
        "    Iterates outwards from start row to find point satisfied by\n",
        "    ray-casting algortihm to be inside spline\n",
        "    \"\"\"\n",
        "    if (row >= 256 or row < 0):\n",
        "        return False\n",
        "    next_row = int(row + 10)\n",
        "    intersect = np.where(img[row, :] > 0.0)[0]\n",
        "    nr_intersect = intersect.shape[0]\n",
        "    if (nr_intersect > 0):\n",
        "        if (intersect[0] > 0):\n",
        "            return (0, row)\n",
        "        else:\n",
        "            for i in range (0, nr_intersect-2, 2):\n",
        "                if (intersect[i+2]-intersect[i+1] > 1):\n",
        "                    return (int((intersect[i+1]+intersect[i])/2), row)\n",
        "        return floodFill_start(img, next_row)\n",
        "    else:\n",
        "        return floodFill_start(img, next_row)\n",
        "    \n",
        "    \n",
        "def floodFill_(img):\n",
        "    img = np.pad(img, 1, 'constant', constant_values=(0))\n",
        "    start_ind = floodFill_start(img, 0)\n",
        "    if not start_ind:\n",
        "        img[:,:] = 0\n",
        "    else:\n",
        "        img = img.astype('uint8')\n",
        "        img = floodFill(img, None, start_ind, 1.0)[1]\n",
        "        cond = np.where((img==0) | (img==1))\n",
        "        img[cond] = 1-img[cond]\n",
        "    img = img.astype('float32')\n",
        "    img[np.where(img > 1)] = img[np.where(img > 1)]/255.0\n",
        "    img = img[1:-1, 1:-1]\n",
        "    return img\n",
        "\n",
        "\n",
        "def get_spline_img(p, batch_size, n):\n",
        "    #time_start = time.time()\n",
        "    d = 3\n",
        "    nd = n+d\n",
        "    rows = 256\n",
        "    cols = 256\n",
        "    \n",
        "    img_batch = np.zeros((batch_size, rows, cols))\n",
        "    \n",
        "    # Iterate over all examples of batch\n",
        "    for i in range(batch_size):\n",
        "        p_i = p[i, :].reshape(n, 2)\n",
        "        p_temp = np.zeros((nd,2))\n",
        "        p_temp[:n] = p_i\n",
        "        p_temp[n:] = p_i[:d]\n",
        "        p_i = p_temp\n",
        "\n",
        "        t = np.linspace(0, 1, nd+d+1)\n",
        "        spline = BSpline.construct_fast(t, p_i, d, 'periodic')\n",
        "\n",
        "        # Calculate step size\n",
        "        step = calc_stepsize(nd, d, p_i)\n",
        "        \n",
        "        # Calculate spline\n",
        "        img = np.zeros((rows, cols))\n",
        "        t_n = np.linspace(0, 1, int(1.0/step))\n",
        "        for x in t_n:\n",
        "            point = spline(x)\n",
        "            col = int(point[0])\n",
        "            row = int(point[1])\n",
        "            if img[row, col] == 0:\n",
        "                img[row, col] = calc_intersect(point)\n",
        "        \n",
        "        # Flood fill spline\n",
        "        img_batch[i, :, :] = floodFill_(img)\n",
        "\n",
        "    return img_batch"
      ],
      "execution_count": null,
      "outputs": []
    },
    {
      "cell_type": "code",
      "metadata": {
        "id": "kfW0hX2IuipQ",
        "colab_type": "code",
        "colab": {}
      },
      "source": [
        "def seg_loss(labels, predictions, p, axis=0):\n",
        "    beta = 0.01\n",
        "    bce = tf.keras.losses.BinaryCrossentropy(reduction=tf.keras.losses.Reduction.NONE)\n",
        "    ce = tf.reduce_sum(bce(labels, predictions), axis=axis)\n",
        "    #reg = beta * tf.reduce_sum(tf.math.square(tf.abs(p-(256.0/2))), axis=1)\n",
        "    reg = tf.keras.losses.MSE(256.0/2, p)\n",
        "    reg = tf.cast(reg, dtype='float32')\n",
        "    return tf.math.add(ce, beta*reg)\n",
        "    #return reg\n",
        "\n",
        "                               \n",
        "@tf.custom_gradient\n",
        "def spline_loss(labels, predictions):\n",
        "    \n",
        "    labels = tf.squeeze(labels)\n",
        "    p = predictions.numpy() # Transform input tensor to numpy-array\n",
        "    batch_size, output_size = p.shape[0], p.shape[1]\n",
        "    n = int(output_size/2)  # n is number of control points\n",
        "    \n",
        "    # Calculate batch loss\n",
        "    predictions = tf.constant(get_spline_img(p, batch_size, n), dtype='float32')  # Draw spline from control points\n",
        "    predictions = tf.squeeze(predictions)\n",
        "    assert predictions.numpy()[np.where(predictions.numpy()>1)].size == 0\n",
        "    loss = seg_loss(labels, predictions, p, axis=1)\n",
        "    \n",
        "    # Custom gradient for spline loss\n",
        "    def spline_grad(dLoss, dPred):\n",
        "        \n",
        "        difference = 'central'\n",
        "        dP = 1.0\n",
        "        gradient = np.zeros((batch_size, output_size))\n",
        "        #ta = tf.TensorArray(tf.float32, size=0, dynamic_size=True, clear_after_read=False)\n",
        "        \n",
        "        # Iterate over all samples in batch\n",
        "        for sample in range(batch_size):\n",
        "            \n",
        "            # Kan NONE FJERNES? UNØDVENDIG DIM\n",
        "            p_sample = p[None, sample, :].copy()\n",
        "            \n",
        "             # Iterate over all control points to calculate gradient\n",
        "            for i in range(output_size):\n",
        "                \n",
        "                dP_ = np.zeros((1, output_size))\n",
        "                dP_[:,i] = dP\n",
        "                \n",
        "                \n",
        "                #Forward/backward difference approximation to gradient\n",
        "                if (difference == 'forward'):\n",
        "                    \n",
        "                    # Check if point close to boundary\n",
        "                    if (p_sample[:, i] + dP < 256.0/2):\n",
        "                        sign = 1\n",
        "                    else:\n",
        "                        sign = -1\n",
        "\n",
        "                    p_dP = p_sample + sign*dP_\n",
        "                    img = get_spline_img(p_dP, 1, n)\n",
        "\n",
        "                    # MÅ FJERNES HVIS VEKTORISERING\n",
        "                    img = np.squeeze(img)\n",
        "                    assert img[np.where(img>1)].size == 0\n",
        "\n",
        "                    loss_dP = seg_loss(labels[sample, :, :], tf.constant(img, dtype='float32'), p_dP, axis=0)\n",
        "                    gradient[sample, i] = sign*(loss_dP - loss[sample])/dP\n",
        "                \n",
        "                \n",
        "                # Central difference approximation to gradient\n",
        "                elif (difference == 'central'):\n",
        "                    \n",
        "                    if (p_sample[:, i] + dP < 256.0):\n",
        "                        p_dp_forw = p_sample + dP_\n",
        "                    else:\n",
        "                        p_dp_forw = p_sample\n",
        "                        \n",
        "                    if (p_sample[:, i] - dP >= 0.0):\n",
        "                        p_dp_back = p_sample - dP_\n",
        "                    else:\n",
        "                        p_dp_back = p_sample\n",
        "                        \n",
        "                    img_forw = get_spline_img(p_dp_forw, 1, n)\n",
        "                    img_back = get_spline_img(p_dp_back, 1, n)\n",
        "                    \n",
        "                    img_forw = np.squeeze(img_forw)\n",
        "                    assert img_forw[np.where(img_forw>1)].size == 0\n",
        "                    img_back = np.squeeze(img_back)\n",
        "                    assert img_back[np.where(img_back>1)].size == 0\n",
        "                    \n",
        "                    loss_dP_forw = seg_loss(labels[sample, :, :], tf.constant(img_forw, dtype='float32'), p_dp_forw, axis=0)\n",
        "                    loss_dP_back = seg_loss(labels[sample, :, :], tf.constant(img_back, dtype='float32'), p_dp_back, axis=0)\n",
        "                    gradient[sample, i] = (loss_dP_forw - loss_dP_back) / (2*dP)\n",
        "                    \n",
        "                    \n",
        "                #ta = ta.write(sample, sign*(loss_dP - loss[sample])/dP)\n",
        "                \"\"\"\n",
        "                if (i%8==0):\n",
        "                    print('control points: ', p_sample)\n",
        "                    print('Gradient: ', gradient[sample, i])\n",
        "                    plt.figure()\n",
        "                    plt.imshow(predictions[sample, :, :])\n",
        "                    plt.show()\n",
        "                \"\"\"\n",
        "                \n",
        "        gradient = tf.constant(gradient, dtype='float32')\n",
        "        #gradient = ta\n",
        "        #print(gradient)\n",
        "        return None, gradient\n",
        "\n",
        "    return (loss, predictions), spline_grad\n",
        "    \n",
        "    \n",
        "@tf.custom_gradient    \n",
        "def spline_loss_test(labels, predictions):\n",
        "    \n",
        "    #loss =  beta * tf.reduce_sum(tf.math.square(tf.abs(p-(256.0/2))), axis=1)\n",
        "    loss = tf.keras.losses.MSE(256.0/2, predictions)\n",
        "    #loss = tf.cast(loss, dtype='float32')\n",
        "    \n",
        "    def grad_fn(dLab):\n",
        "        grad = -2*(256.0/2 - predictions)\n",
        "        #grad = tf.cast(grad, dtype='float32')\n",
        "        return None, grad\n",
        "    \n",
        "    return loss, grad_fn\n",
        "    #return loss\n",
        "    \n",
        "\n",
        "# Train the model\n",
        "#@tf.function # Speeds things up\n",
        "# https://www.tensorflow.org/tutorials/customization/performance\n",
        "def model_train(features, labels):\n",
        "    \n",
        "    optimizer = tf.keras.optimizers.Adam(learning_rate=0.001)\n",
        "    \n",
        "    # Define the GradientTape context\n",
        "    with tf.GradientTape() as tape:\n",
        "        \n",
        "        # Get the probabilities\n",
        "        predictions = 255.9*model(features, training=True)\n",
        "\n",
        "        # Calculate the loss\n",
        "        loss, predictions = spline_loss(labels, predictions)\n",
        "        #loss = spline_loss_test(labels, predictions)\n",
        "\n",
        "    # Get the gradients\n",
        "    gradients = tape.gradient(loss, model.trainable_variables)\n",
        "    #print(gradients)\n",
        "    \n",
        "    # Update the weights\n",
        "    optimizer.apply_gradients(zip(gradients, model.trainable_variables))\n",
        "    \n",
        "    # Update the loss and accuracy\n",
        "    labels = tf.squeeze(labels)\n",
        "    train_loss(loss)\n",
        "    train_iou(labels, predictions)\n",
        "    \n",
        "\n",
        "def model_validate(features, labels):\n",
        "    predictions = 255.9*model(features, training=False)\n",
        "    v_loss, predictions = spline_loss(labels, predictions)\n",
        "    labels = tf.squeeze(labels)\n",
        "    valid_loss(v_loss)\n",
        "    valid_iou(labels, predictions)\n",
        "\n"
      ],
      "execution_count": null,
      "outputs": []
    },
    {
      "cell_type": "markdown",
      "metadata": {
        "id": "TviY9CSDuipX",
        "colab_type": "text"
      },
      "source": [
        "### Model"
      ]
    },
    {
      "cell_type": "code",
      "metadata": {
        "id": "6fvRRl9ZuipY",
        "colab_type": "code",
        "colab": {
          "base_uri": "https://localhost:8080/",
          "height": 697
        },
        "outputId": "89e4ed81-57c2-4982-9573-66edf7022902"
      },
      "source": [
        "model1 = get_model(which='unet')\n",
        "model = get_model()\n",
        "model.summary()"
      ],
      "execution_count": null,
      "outputs": [
        {
          "output_type": "stream",
          "text": [
            "Model: \"sequential\"\n",
            "_________________________________________________________________\n",
            "Layer (type)                 Output Shape              Param #   \n",
            "=================================================================\n",
            "conv2d_9 (Conv2D)            (None, 256, 256, 32)      320       \n",
            "_________________________________________________________________\n",
            "leaky_re_lu (LeakyReLU)      (None, 256, 256, 32)      0         \n",
            "_________________________________________________________________\n",
            "max_pooling2d_4 (MaxPooling2 (None, 128, 128, 32)      0         \n",
            "_________________________________________________________________\n",
            "conv2d_10 (Conv2D)           (None, 128, 128, 64)      18496     \n",
            "_________________________________________________________________\n",
            "leaky_re_lu_1 (LeakyReLU)    (None, 128, 128, 64)      0         \n",
            "_________________________________________________________________\n",
            "max_pooling2d_5 (MaxPooling2 (None, 64, 64, 64)        0         \n",
            "_________________________________________________________________\n",
            "conv2d_11 (Conv2D)           (None, 64, 64, 128)       73856     \n",
            "_________________________________________________________________\n",
            "leaky_re_lu_2 (LeakyReLU)    (None, 64, 64, 128)       0         \n",
            "_________________________________________________________________\n",
            "max_pooling2d_6 (MaxPooling2 (None, 32, 32, 128)       0         \n",
            "_________________________________________________________________\n",
            "conv2d_12 (Conv2D)           (None, 32, 32, 256)       295168    \n",
            "_________________________________________________________________\n",
            "leaky_re_lu_3 (LeakyReLU)    (None, 32, 32, 256)       0         \n",
            "_________________________________________________________________\n",
            "max_pooling2d_7 (MaxPooling2 (None, 16, 16, 256)       0         \n",
            "_________________________________________________________________\n",
            "flatten_1 (Flatten)          (None, 65536)             0         \n",
            "_________________________________________________________________\n",
            "dense_1 (Dense)              (None, 256)               16777472  \n",
            "_________________________________________________________________\n",
            "leaky_re_lu_4 (LeakyReLU)    (None, 256)               0         \n",
            "_________________________________________________________________\n",
            "dense_2 (Dense)              (None, 16)                4112      \n",
            "=================================================================\n",
            "Total params: 17,169,424\n",
            "Trainable params: 17,169,424\n",
            "Non-trainable params: 0\n",
            "_________________________________________________________________\n"
          ],
          "name": "stdout"
        }
      ]
    },
    {
      "cell_type": "markdown",
      "metadata": {
        "id": "E-Gj9vvZuipe",
        "colab_type": "text"
      },
      "source": [
        "### Train"
      ]
    },
    {
      "cell_type": "code",
      "metadata": {
        "id": "3hzuwSjhuipf",
        "colab_type": "code",
        "colab": {}
      },
      "source": [
        "train_loss = tf.keras.metrics.Mean(name=\"train_loss\")\n",
        "valid_loss = tf.keras.metrics.Mean(name=\"test_loss\")\n",
        "\n",
        "# Specify the performance metric\n",
        "train_iou = tf.keras.metrics.MeanIoU(num_classes=2, name=\"train_iou\")\n",
        "valid_iou = tf.keras.metrics.MeanIoU(num_classes=2, name=\"valid_iou\")"
      ],
      "execution_count": null,
      "outputs": []
    },
    {
      "cell_type": "code",
      "metadata": {
        "id": "zakS3AEQuipm",
        "colab_type": "code",
        "colab": {
          "base_uri": "https://localhost:8080/",
          "height": 680
        },
        "outputId": "5613d3f4-1667-4b24-a541-870f52097f23"
      },
      "source": [
        "best_loss = 99999\n",
        "num_epochs = 30\n",
        "\n",
        "# Train the model for num_epochs\n",
        "for epoch in range(num_epochs):\n",
        "    \n",
        "    # Run the model through train and validation sets respectively\n",
        "    for (features, labels) in train_dataset:\n",
        "        model_train(features, labels)\n",
        "    \n",
        "    \n",
        "    for valid_features, valid_labels in valid_dataset:\n",
        "        model_validate(valid_features, valid_labels)\n",
        "        \n",
        "    \n",
        "    # Grab the results\n",
        "    (loss, iou) = train_loss.result(), train_iou.result()\n",
        "    #loss = train_loss.result()\n",
        "    (val_loss, val_iou) = valid_loss.result(), valid_iou.result()\n",
        "\n",
        "    # Clear the current state of the metrics\n",
        "    train_loss.reset_states(), train_iou.reset_states()\n",
        "    valid_loss.reset_states(), valid_iou.reset_states()\n",
        "    \n",
        "    #print(f'Epoch: {epoch}, Loss: {loss}')\n",
        "    \n",
        "    # Local logging\n",
        "    \n",
        "    template = \"Epoch {}, loss: {:.3f}, iou: {:.3f}, val_loss: {:.3f}, val_iou: {:.3f}\"\n",
        "    print (template.format(epoch+1,\n",
        "                        loss,\n",
        "                        iou,\n",
        "                        val_loss,\n",
        "                        val_iou))\n",
        "    \n",
        "    if (val_loss < best_loss):\n",
        "        best_loss = val_loss\n",
        "        model.save_weights('model.h5')\n",
        "        print(f'New low val_loss. Model weights saved.')\n",
        "        \n",
        "        \n",
        "    # Logging with W&B\n",
        "    \"\"\"\n",
        "    wandb.log({\"train_loss\": loss.numpy(),\n",
        "              \"train_accuracy\": acc.numpy(),\n",
        "              \"val_loss\": val_loss.numpy(),\n",
        "              \"val_accuracy\": val_acc.numpy()\n",
        "    })\n",
        "    get_sample_predictions() # More on this later\n",
        "    \"\"\""
      ],
      "execution_count": null,
      "outputs": [
        {
          "output_type": "stream",
          "text": [
            "Epoch 1, loss: 417.376, iou: 0.000, val_loss: 1190.576, val_iou: 0.387\n",
            "New low val_loss. Model weights saved.\n",
            "Epoch 2, loss: 779.948, iou: 0.000, val_loss: 266.691, val_iou: 0.545\n",
            "New low val_loss. Model weights saved.\n",
            "Epoch 3, loss: 191.780, iou: 0.000, val_loss: 597.724, val_iou: 0.466\n",
            "Epoch 4, loss: 352.442, iou: 0.000, val_loss: 264.189, val_iou: 0.507\n",
            "New low val_loss. Model weights saved.\n",
            "Epoch 5, loss: 198.508, iou: 0.000, val_loss: 332.221, val_iou: 0.482\n",
            "Epoch 6, loss: 234.091, iou: 0.000, val_loss: 125.310, val_iou: 0.551\n",
            "New low val_loss. Model weights saved.\n",
            "Epoch 7, loss: 152.596, iou: 0.000, val_loss: 192.583, val_iou: 0.546\n",
            "Epoch 8, loss: 170.356, iou: 0.000, val_loss: 205.255, val_iou: 0.538\n",
            "Epoch 9, loss: 171.767, iou: 0.000, val_loss: 147.583, val_iou: 0.559\n",
            "Epoch 10, loss: 153.863, iou: 0.000, val_loss: 98.483, val_iou: 0.530\n",
            "New low val_loss. Model weights saved.\n",
            "Epoch 11, loss: 147.544, iou: 0.000, val_loss: 132.192, val_iou: 0.559\n",
            "Epoch 12, loss: 155.432, iou: 0.000, val_loss: 232.002, val_iou: 0.518\n",
            "Epoch 13, loss: 188.945, iou: 0.000, val_loss: 93.090, val_iou: 0.506\n",
            "New low val_loss. Model weights saved.\n",
            "Epoch 14, loss: 146.860, iou: 0.000, val_loss: 484.714, val_iou: 0.494\n",
            "Epoch 15, loss: 266.934, iou: 0.000, val_loss: 92.521, val_iou: 0.518\n",
            "New low val_loss. Model weights saved.\n",
            "Epoch 16, loss: 145.894, iou: 0.000, val_loss: 540.361, val_iou: 0.480\n",
            "Epoch 17, loss: 328.908, iou: 0.000, val_loss: 89.867, val_iou: 0.585\n",
            "New low val_loss. Model weights saved.\n",
            "Epoch 18, loss: 140.179, iou: 0.000, val_loss: 1352.756, val_iou: 0.362\n",
            "Epoch 19, loss: 751.743, iou: 0.000, val_loss: 97.710, val_iou: 0.572\n",
            "Epoch 20, loss: 141.511, iou: 0.000, val_loss: 132.143, val_iou: 0.564\n",
            "Epoch 21, loss: 155.766, iou: 0.000, val_loss: 108.329, val_iou: 0.563\n",
            "Epoch 22, loss: 145.986, iou: 0.000, val_loss: 112.850, val_iou: 0.556\n",
            "Epoch 23, loss: 150.064, iou: 0.000, val_loss: 93.824, val_iou: 0.525\n",
            "Epoch 24, loss: 146.029, iou: 0.000, val_loss: 116.377, val_iou: 0.559\n",
            "Epoch 25, loss: 141.695, iou: 0.000, val_loss: 218.964, val_iou: 0.605\n",
            "Epoch 26, loss: 238.075, iou: 0.000, val_loss: 119.782, val_iou: 0.515\n",
            "Epoch 27, loss: 150.876, iou: 0.000, val_loss: 77.757, val_iou: 0.644\n",
            "New low val_loss. Model weights saved.\n",
            "Epoch 28, loss: 136.869, iou: 0.000, val_loss: 95.645, val_iou: 0.583\n",
            "Epoch 29, loss: 137.381, iou: 0.000, val_loss: 135.242, val_iou: 0.614\n",
            "Epoch 30, loss: 132.079, iou: 0.000, val_loss: 124.070, val_iou: 0.561\n"
          ],
          "name": "stdout"
        }
      ]
    },
    {
      "cell_type": "code",
      "metadata": {
        "id": "Gp3OEMbD9E7h",
        "colab_type": "code",
        "colab": {
          "base_uri": "https://localhost:8080/",
          "height": 105
        },
        "outputId": "d4252e2d-9c23-4d20-aaa8-46fe350d6d7a"
      },
      "source": [
        "model.save('colab1')"
      ],
      "execution_count": null,
      "outputs": [
        {
          "output_type": "stream",
          "text": [
            "WARNING:tensorflow:From /usr/local/lib/python3.6/dist-packages/tensorflow/python/ops/resource_variable_ops.py:1817: calling BaseResourceVariable.__init__ (from tensorflow.python.ops.resource_variable_ops) with constraint is deprecated and will be removed in a future version.\n",
            "Instructions for updating:\n",
            "If using Keras pass *_constraint arguments to layers.\n",
            "INFO:tensorflow:Assets written to: colab1/assets\n"
          ],
          "name": "stdout"
        }
      ]
    },
    {
      "cell_type": "code",
      "metadata": {
        "id": "EQtPO2O39k0J",
        "colab_type": "code",
        "colab": {
          "base_uri": "https://localhost:8080/",
          "height": 119
        },
        "outputId": "0e1f387f-cf9d-4213-d05f-77932185b5b2"
      },
      "source": [
        "!zip -r /content/file.zip /content/colab1"
      ],
      "execution_count": null,
      "outputs": [
        {
          "output_type": "stream",
          "text": [
            "  adding: content/colab1/ (stored 0%)\n",
            "  adding: content/colab1/saved_model.pb (deflated 91%)\n",
            "  adding: content/colab1/assets/ (stored 0%)\n",
            "  adding: content/colab1/variables/ (stored 0%)\n",
            "  adding: content/colab1/variables/variables.index (deflated 55%)\n",
            "  adding: content/colab1/variables/variables.data-00000-of-00001 (deflated 7%)\n"
          ],
          "name": "stdout"
        }
      ]
    },
    {
      "cell_type": "markdown",
      "metadata": {
        "id": "chHsGHmAuips",
        "colab_type": "text"
      },
      "source": [
        "### Evaluate"
      ]
    },
    {
      "cell_type": "code",
      "metadata": {
        "id": "TOy2Wdc1uipt",
        "colab_type": "code",
        "colab": {
          "base_uri": "https://localhost:8080/"
        },
        "outputId": "a26edeea-fc99-4e7b-8644-e7fa6ddbfe98"
      },
      "source": [
        "preds = model.predict(test_dataset)\n",
        "print(np.unique(preds))\n",
        "\n",
        "i = 2\n",
        "\n",
        "print(preds[i, :])\n",
        "\n",
        "spline = Spline(preds[i, :])\n",
        "spline.drawCurve()\n",
        "spline.get_spline(flood=True)"
      ],
      "execution_count": null,
      "outputs": [
        {
          "output_type": "stream",
          "text": [
            "[0.33877456 0.38818607 0.39782855 0.4030691  0.40885472 0.41224194\n",
            " 0.41232866 0.41848627 0.42018968 0.4430095  0.45258883 0.4532796\n",
            " 0.45670137 0.45972478 0.46673796 0.4790098  0.479227   0.48296556\n",
            " 0.48407167 0.48463652 0.48806503 0.48832327 0.48921683 0.491038\n",
            " 0.49206692 0.49285597 0.4937117  0.49569395 0.49784938 0.49883184\n",
            " 0.49893823 0.49968386 0.5049194  0.5080964  0.50833666 0.50842637\n",
            " 0.5115003  0.5142239  0.51446015 0.5150351  0.5161547  0.51727074\n",
            " 0.5179535  0.5181016  0.5212381  0.52347183 0.52718    0.52779603\n",
            " 0.52821875 0.5285993  0.52898574 0.53040314 0.53147626 0.5318173\n",
            " 0.5369281  0.53805065 0.5512929  0.5557447  0.5568729  0.5623254\n",
            " 0.5788398  0.5900296  0.6140905  0.66932213]\n",
            "[0.4937117  0.41848627 0.42018968 0.46673796 0.479227   0.52779603\n",
            " 0.51446015 0.5161547  0.5179535  0.5049194  0.5142239  0.49285597\n",
            " 0.48921683 0.5115003  0.5369281  0.52347183]\n"
          ],
          "name": "stdout"
        },
        {
          "output_type": "display_data",
          "data": {
            "image/png": "[encoded data removed]",
            "text/plain": [
              "<Figure size 432x288 with 1 Axes>"
            ]
          },
          "metadata": {
            "tags": [],
            "needs_background": "light"
          }
        },
        {
          "output_type": "display_data",
          "data": {
            "image/png": "[encoded data removed]",
            "text/plain": [
              "<Figure size 720x720 with 1 Axes>"
            ]
          },
          "metadata": {
            "tags": [],
            "needs_background": "light"
          }
        },
        {
          "output_type": "execute_result",
          "data": {
            "text/plain": [
              "array([[0., 0., 0., ..., 0., 0., 0.],\n",
              "       [0., 0., 0., ..., 0., 0., 0.],\n",
              "       [0., 0., 0., ..., 0., 0., 0.],\n",
              "       ...,\n",
              "       [0., 0., 0., ..., 0., 0., 0.],\n",
              "       [0., 0., 0., ..., 0., 0., 0.],\n",
              "       [0., 0., 0., ..., 0., 0., 0.]], dtype=float32)"
            ]
          },
          "metadata": {
            "tags": []
          },
          "execution_count": 29
        }
      ]
    },
    {
      "cell_type": "code",
      "metadata": {
        "id": "WPf3oqUduipx",
        "colab_type": "code",
        "colab": {}
      },
      "source": [
        "preds = model.predict(X_test)\n",
        "print(np.unique(preds))\n",
        "\n",
        "print(preds[0, :])\n",
        "\n",
        "spline = Spline(preds[0, :])\n",
        "spline.drawCurve()\n",
        "spline.get_spline(flood=True)"
      ],
      "execution_count": null,
      "outputs": []
    },
    {
      "cell_type": "code",
      "metadata": {
        "id": "vUn0WUcQuip3",
        "colab_type": "code",
        "colab": {}
      },
      "source": [
        "plt.imshow(np.squeeze(y_test[1,:]))"
      ],
      "execution_count": null,
      "outputs": []
    },
    {
      "cell_type": "code",
      "metadata": {
        "id": "hVkQHtltuip7",
        "colab_type": "code",
        "colab": {}
      },
      "source": [
        "a = preds[None, 1, :].copy()\n",
        "print(a.shape)\n",
        "\n",
        "valid_acc(y_test[1,:], get_spline_img(preds[None, 1, :], 1, 8))"
      ],
      "execution_count": null,
      "outputs": []
    },
    {
      "cell_type": "code",
      "metadata": {
        "id": "dP4_L_Pbuip-",
        "colab_type": "code",
        "colab": {}
      },
      "source": [
        "preds[1, :]"
      ],
      "execution_count": null,
      "outputs": []
    },
    {
      "cell_type": "code",
      "metadata": {
        "id": "JyscECW2uiqB",
        "colab_type": "code",
        "colab": {}
      },
      "source": [
        "a = np.ones(5)\n",
        "a[0] = 0\n",
        "a[1] = 0.2\n",
        "a[2] = 10\n",
        "b = np.zeros(5)\n",
        "bce = tf.keras.losses.BinaryCrossentropy(reduction=tf.keras.losses.Reduction.NONE)\n",
        "print(bce(a,b))\n",
        "assert a[np.where(a>1)].size == 0"
      ],
      "execution_count": null,
      "outputs": []
    },
    {
      "cell_type": "code",
      "metadata": {
        "id": "Dq6UmYiauiqE",
        "colab_type": "code",
        "colab": {}
      },
      "source": [
        "model.layers[10].get_weights()"
      ],
      "execution_count": null,
      "outputs": []
    },
    {
      "cell_type": "code",
      "metadata": {
        "id": "kNqRo65DuiqG",
        "colab_type": "code",
        "colab": {}
      },
      "source": [
        "p = np.ones((2, 10))\n",
        "pd = tf.reduce_sum(tf.abs(p-256/2), axis=1)\n",
        "pd.dtype"
      ],
      "execution_count": null,
      "outputs": []
    }
  ]
}