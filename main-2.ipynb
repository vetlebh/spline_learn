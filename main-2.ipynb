{
  "nbformat": 4,
  "nbformat_minor": 0,
  "metadata": {
    "kernelspec": {
      "display_name": "Python 3",
      "language": "python",
      "name": "python3"
    },
    "language_info": {
      "codemirror_mode": {
        "name": "ipython",
        "version": 3
      },
      "file_extension": ".py",
      "mimetype": "text/x-python",
      "name": "python",
      "nbconvert_exporter": "python",
      "pygments_lexer": "ipython3",
      "version": "3.7.7"
    },
    "colab": {
      "name": "main.ipynb",
      "provenance": [],
      "collapsed_sections": [],
      "toc_visible": true
    },
    "accelerator": "TPU"
  },
  "cells": [
    {
      "cell_type": "code",
      "metadata": {
        "id": "LN5Q9CdHuiou",
        "colab_type": "code",
        "colab": {
          "base_uri": "https://localhost:8080/",
          "height": 51
        },
        "outputId": "f61c5a1b-63d0-4a85-975e-54f7acb09fd5"
      },
      "source": [
        "%load_ext autoreload\n",
        "%autoreload 2"
      ],
      "execution_count": 13,
      "outputs": [
        {
          "output_type": "stream",
          "text": [
            "The autoreload extension is already loaded. To reload it, use:\n",
            "  %reload_ext autoreload\n"
          ],
          "name": "stdout"
        }
      ]
    },
    {
      "cell_type": "code",
      "metadata": {
        "id": "466w4T72vfQ0",
        "colab_type": "code",
        "colab": {
          "resources": {
            "http://localhost:8080/nbextensions/google.colab/files.js": {
              "data": "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",
              "ok": true,
              "headers": [
                [
                  "content-type",
                  "application/javascript"
                ]
              ],
              "status": 200,
              "status_text": ""
            }
          },
          "base_uri": "https://localhost:8080/",
          "height": 110
        },
        "outputId": "f39d8564-af06-4f0d-c924-79657e0f2be6"
      },
      "source": [
        "from google.colab import files\n",
        "files.upload()\n",
        "# choose the file on your computer to upload it then\n",
        "#import data"
      ],
      "execution_count": 14,
      "outputs": [
        {
          "output_type": "display_data",
          "data": {
            "text/html": [
              "\n",
              "     <input type=\"file\" id=\"files-5c621010-9b8f-4d72-99e3-43b1fc3772d0\" name=\"files[]\" multiple disabled\n",
              "        style=\"border:none\" />\n",
              "     <output id=\"result-5c621010-9b8f-4d72-99e3-43b1fc3772d0\">\n",
              "      Upload widget is only available when the cell has been executed in the\n",
              "      current browser session. Please rerun this cell to enable.\n",
              "      </output>\n",
              "      <script src=\"/nbextensions/google.colab/files.js\"></script> "
            ],
            "text/plain": [
              "<IPython.core.display.HTML object>"
            ]
          },
          "metadata": {
            "tags": []
          }
        },
        {
          "output_type": "stream",
          "text": [
            "Saving get_data.py to get_data (1).py\n"
          ],
          "name": "stdout"
        },
        {
          "output_type": "execute_result",
          "data": {
            "text/plain": [
              "{'get_data.py': b\"import os\\nimport numpy as np\\nimport tensorflow as tf\\n\\nfrom skimage.transform import resize\\nfrom sklearn.model_selection import train_test_split\\n\\n\\ndef get_dataset(which='colab', test_size=0.1, val_size=0.1, random_state=69):\\n\\n\\n    BATCH_SIZE = 128\\n    im_height = 256\\n    im_width = 256\\n\\n    # Set data location\\n    if (which=='colab'):\\n        print('Google Drive folder')\\n        training_path = 'drive/My Drive/training.nosync'\\n    else:\\n        print('Local folder')\\n        training_path = 'training.nosync'\\n    img_name = 'image.npy'\\n    gt_name = 'gt.npy'\\n\\n    # Set fraction to use as test and validation\\n    test_size = 0.1\\n    val_size = 0.1\\n\\n    max_slices = 15\\n\\n    walk = next(os.walk(training_path))[1]\\n\\n    X = np.zeros((len(walk)*max_slices, im_height, im_width, 1))\\n    y = np.zeros((len(walk)*max_slices, im_height, im_width, 1))\\n\\n    img_nr = 0\\n    sum_slices = 0\\n    patients_not_found = 0\\n    for ids in walk:\\n\\n        try:\\n            img = np.load(os.path.join(training_path, ids, img_name))\\n            gt = np.load(os.path.join(training_path, ids, gt_name))\\n            slices = img.shape[2]\\n\\n            for slice_nr in range(slices):\\n\\n                img_slice, gt_slice = img[:, :, slice_nr], gt[:, :, slice_nr]\\n                img_resized = resize(img_slice, (im_height, im_width, 1), mode = 'edge', preserve_range = True, anti_aliasing=True)\\n                gt_resized = resize(gt_slice, (im_height, im_width, 1), mode = 'edge', preserve_range = True, anti_aliasing=True)\\n\\n                # We are only interested in the classes 'heart' and 'background' for this experiment\\n                gt_resized = (gt_resized > 0.5).astype(np.uint8)\\n\\n                X[sum_slices, :, :, :] = img_resized/255.0\\n                y[sum_slices, :, :, :] = gt_resized\\n\\n                sum_slices +=1\\n\\n        except:\\n            print(f'{ids} not found')\\n            patients_not_found += 1\\n            continue\\n\\n        if(img_nr%10 == 0):\\n            print(f'{img_nr} images and {sum_slices} slices loaded to array')\\n        img_nr += 1\\n    print(f'Image load complete. {img_nr} images and {sum_slices} slices loaded successfully. ')\\n\\n\\n    # Remove empty entries\\n    X, y = X[:sum_slices, :, :, :], y[:sum_slices, :, :, :]\\n    print(X.shape, y.shape)\\n    print(np.unique(y))\\n\\n    # Split train data and test data\\n    X_train, X_test, y_train, y_test = train_test_split(X, y, test_size=test_size)\\n\\n    # Split train data into train and valid\\n    X_train, X_valid, y_train, y_valid = train_test_split(X_train, y_train, test_size=val_size)\\n\\n    print(f'Training size: {X_train.shape[0]}, Validation size: {X_valid.shape[0]}, Test size: {X_test.shape[0]}')\\n\\n\\n    # Create tf.dataset\\n    train_dataset = tf.data.Dataset.from_tensor_slices((X_train, y_train))\\n    valid_dataset = tf.data.Dataset.from_tensor_slices((X_valid, y_valid))\\n    test_dataset = tf.data.Dataset.from_tensor_slices((X_test, y_test))\\n\\n    train_dataset = train_dataset.batch(BATCH_SIZE)\\n    valid_dataset = valid_dataset.batch(BATCH_SIZE)\\n    test_dataset = test_dataset.batch(BATCH_SIZE)\\n\\n    return train_dataset, valid_dataset, test_dataset\\n\\n\\n\\n\\n\\n\\ndef get_raw_dataset(which='colab', test_size=0.1, val_size=0.1, random_state=69):\\n\\n\\n    BATCH_SIZE = 128\\n    im_height = 256\\n    im_width = 256\\n\\n    # Set data location\\n    if (which=='colab'):\\n        print('Google Drive folder')\\n        training_path = 'drive/My Drive/training.nosync'\\n    else:\\n        print('Local folder')\\n        training_path = 'training.nosync'\\n    img_name = 'image.npy'\\n    gt_name = 'gt.npy'\\n\\n    # Set fraction to use as test and validation\\n    test_size = 0.1\\n    val_size = 0.1\\n\\n    max_slices = 15\\n\\n    walk = next(os.walk(training_path))[1]\\n\\n    X = np.zeros((len(walk)*max_slices, im_height, im_width, 1))\\n    y = np.zeros((len(walk)*max_slices, im_height, im_width, 1))\\n\\n    img_nr = 0\\n    sum_slices = 0\\n    patients_not_found = 0\\n    for ids in walk:\\n\\n        try:\\n            img = np.load(os.path.join(training_path, ids, img_name))\\n            gt = np.load(os.path.join(training_path, ids, gt_name))\\n            slices = img.shape[2]\\n\\n            for slice_nr in range(slices):\\n\\n                img_slice, gt_slice = img[:, :, slice_nr], gt[:, :, slice_nr]\\n                img_resized = resize(img_slice, (im_height, im_width, 1), mode = 'edge', preserve_range = True, anti_aliasing=True)\\n                gt_resized = resize(gt_slice, (im_height, im_width, 1), mode = 'edge', preserve_range = True, anti_aliasing=True)\\n\\n                # We are only interested in the classes 'heart' and 'background' for this experiment\\n                gt_resized = (gt_resized > 0.5).astype(np.uint8)\\n\\n                X[sum_slices, :, :, :] = img_resized/255.0\\n                y[sum_slices, :, :, :] = gt_resized\\n\\n                sum_slices +=1\\n\\n        except:\\n            print(f'{ids} not found')\\n            patients_not_found += 1\\n            continue\\n\\n        if(img_nr%10 == 0):\\n            print(f'{img_nr} images and {sum_slices} slices loaded to array')\\n        img_nr += 1\\n    print(f'Image load complete. {img_nr} images and {sum_slices} slices loaded successfully. ')\\n\\n\\n    # Remove empty entries\\n    X, y = X[:sum_slices, :, :, :], y[:sum_slices, :, :, :]\\n    print(X.shape, y.shape)\\n    print(np.unique(y))\\n\\n    # Split train data and test data\\n    X_train, X_test, y_train, y_test = train_test_split(X, y, test_size=test_size)\\n\\n    # Split train data into train and valid\\n    X_train, X_valid, y_train, y_valid = train_test_split(X_train, y_train, test_size=val_size)\\n\\n    print(f'Training size: {X_train.shape[0]}, Validation size: {X_valid.shape[0]}, Test size: {X_test.shape[0]}')\\n\\n\\n    return X_train, X_test\\n\"}"
            ]
          },
          "metadata": {
            "tags": []
          },
          "execution_count": 14
        }
      ]
    },
    {
      "cell_type": "code",
      "metadata": {
        "id": "myEi8E0byTXE",
        "colab_type": "code",
        "colab": {
          "base_uri": "https://localhost:8080/",
          "height": 122
        },
        "outputId": "7528519e-19f4-40d0-b909-eab483273f25"
      },
      "source": [
        "from google.colab import drive\n",
        "drive.mount('/content/drive')"
      ],
      "execution_count": 3,
      "outputs": [
        {
          "output_type": "stream",
          "text": [
            "Go to this URL in a browser: https://accounts.google.com/o/oauth2/auth?client_id=947318989803-6bn6qk8qdgf4n4g3pfee6491hc0brc4i.apps.googleusercontent.com&redirect_uri=urn%3aietf%3awg%3aoauth%3a2.0%3aoob&response_type=code&scope=email%20https%3a%2f%2fwww.googleapis.com%2fauth%2fdocs.test%20https%3a%2f%2fwww.googleapis.com%2fauth%2fdrive%20https%3a%2f%2fwww.googleapis.com%2fauth%2fdrive.photos.readonly%20https%3a%2f%2fwww.googleapis.com%2fauth%2fpeopleapi.readonly\n",
            "\n",
            "Enter your authorization code:\n",
            "··········\n",
            "Mounted at /content/drive\n"
          ],
          "name": "stdout"
        }
      ]
    },
    {
      "cell_type": "code",
      "metadata": {
        "id": "NzDy6ivBuio3",
        "colab_type": "code",
        "colab": {}
      },
      "source": [
        "import tensorflow as tf\n",
        "import os\n",
        "import random\n",
        "import time\n",
        "import numpy as np\n",
        "import matplotlib.pyplot as plt\n",
        "\n",
        "from scipy.interpolate import BSpline\n",
        "from cv2 import floodFill\n",
        "\n",
        "from spline import Spline\n",
        "from network import get_model, convNet\n",
        "from get_data import get_dataset, get_raw_dataset\n",
        "from utils import iou\n",
        "\n",
        "from skimage.transform import resize\n",
        "from sklearn.model_selection import train_test_split"
      ],
      "execution_count": 30,
      "outputs": []
    },
    {
      "cell_type": "code",
      "metadata": {
        "id": "mQ9QwwHevrch",
        "colab_type": "code",
        "colab": {
          "base_uri": "https://localhost:8080/",
          "height": 34
        },
        "outputId": "a42894e6-25bc-4aa9-ae7f-31dc12e1445c"
      },
      "source": [
        "if 'COLAB_TPU_ADDR' not in os.environ: \n",
        "  print('Not connected to TPU') \n",
        "else: \n",
        "  print(\"Connected to TPU\") "
      ],
      "execution_count": 5,
      "outputs": [
        {
          "output_type": "stream",
          "text": [
            "Connected to TPU\n"
          ],
          "name": "stdout"
        }
      ]
    },
    {
      "cell_type": "code",
      "metadata": {
        "id": "6fvRRl9ZuipY",
        "colab_type": "code",
        "colab": {
          "base_uri": "https://localhost:8080/",
          "height": 697
        },
        "outputId": "7a6ccb64-475e-4fbd-eaac-6f15f2c2aeef"
      },
      "source": [
        "model = convNet(16, 256, 256)\n",
        "model.summary()"
      ],
      "execution_count": 6,
      "outputs": [
        {
          "output_type": "stream",
          "text": [
            "Model: \"sequential\"\n",
            "_________________________________________________________________\n",
            "Layer (type)                 Output Shape              Param #   \n",
            "=================================================================\n",
            "conv2d (Conv2D)              (None, 256, 256, 32)      320       \n",
            "_________________________________________________________________\n",
            "leaky_re_lu (LeakyReLU)      (None, 256, 256, 32)      0         \n",
            "_________________________________________________________________\n",
            "max_pooling2d (MaxPooling2D) (None, 128, 128, 32)      0         \n",
            "_________________________________________________________________\n",
            "conv2d_1 (Conv2D)            (None, 128, 128, 64)      18496     \n",
            "_________________________________________________________________\n",
            "leaky_re_lu_1 (LeakyReLU)    (None, 128, 128, 64)      0         \n",
            "_________________________________________________________________\n",
            "max_pooling2d_1 (MaxPooling2 (None, 64, 64, 64)        0         \n",
            "_________________________________________________________________\n",
            "conv2d_2 (Conv2D)            (None, 64, 64, 128)       73856     \n",
            "_________________________________________________________________\n",
            "leaky_re_lu_2 (LeakyReLU)    (None, 64, 64, 128)       0         \n",
            "_________________________________________________________________\n",
            "max_pooling2d_2 (MaxPooling2 (None, 32, 32, 128)       0         \n",
            "_________________________________________________________________\n",
            "conv2d_3 (Conv2D)            (None, 32, 32, 256)       295168    \n",
            "_________________________________________________________________\n",
            "leaky_re_lu_3 (LeakyReLU)    (None, 32, 32, 256)       0         \n",
            "_________________________________________________________________\n",
            "max_pooling2d_3 (MaxPooling2 (None, 16, 16, 256)       0         \n",
            "_________________________________________________________________\n",
            "flatten (Flatten)            (None, 65536)             0         \n",
            "_________________________________________________________________\n",
            "dense (Dense)                (None, 256)               16777472  \n",
            "_________________________________________________________________\n",
            "leaky_re_lu_4 (LeakyReLU)    (None, 256)               0         \n",
            "_________________________________________________________________\n",
            "dense_1 (Dense)              (None, 16)                4112      \n",
            "=================================================================\n",
            "Total params: 17,169,424\n",
            "Trainable params: 17,169,424\n",
            "Non-trainable params: 0\n",
            "_________________________________________________________________\n"
          ],
          "name": "stdout"
        }
      ]
    },
    {
      "cell_type": "code",
      "metadata": {
        "id": "TzEbgCv29n8V",
        "colab_type": "code",
        "colab": {
          "base_uri": "https://localhost:8080/",
          "height": 207
        },
        "outputId": "5e9bc8a7-2840-4c0e-b874-b3019d3bc87d"
      },
      "source": [
        "!pip show tensorflow"
      ],
      "execution_count": null,
      "outputs": [
        {
          "output_type": "stream",
          "text": [
            "Name: tensorflow\n",
            "Version: 2.2.0\n",
            "Summary: TensorFlow is an open source machine learning framework for everyone.\n",
            "Home-page: https://www.tensorflow.org/\n",
            "Author: Google Inc.\n",
            "Author-email: packages@tensorflow.org\n",
            "License: Apache 2.0\n",
            "Location: /usr/local/lib/python3.6/dist-packages\n",
            "Requires: h5py, termcolor, numpy, protobuf, opt-einsum, scipy, absl-py, google-pasta, six, astunparse, keras-preprocessing, wheel, grpcio, gast, tensorboard, wrapt, tensorflow-estimator\n",
            "Required-by: fancyimpute\n"
          ],
          "name": "stdout"
        }
      ]
    },
    {
      "cell_type": "code",
      "metadata": {
        "id": "ZQEEPIE63oPS",
        "colab_type": "code",
        "colab": {
          "base_uri": "https://localhost:8080/",
          "height": 51
        },
        "outputId": "8d5b6e1e-5a0e-4190-9608-fadabf37ef23"
      },
      "source": [
        "gpu_info = !nvidia-smi\n",
        "gpu_info = '\\n'.join(gpu_info)\n",
        "if gpu_info.find('failed') >= 0:\n",
        "  print('Select the Runtime > \"Change runtime type\" menu to enable a GPU accelerator, ')\n",
        "  print('and then re-execute this cell.')\n",
        "else:\n",
        "  print(gpu_info)"
      ],
      "execution_count": null,
      "outputs": [
        {
          "output_type": "stream",
          "text": [
            "Select the Runtime > \"Change runtime type\" menu to enable a GPU accelerator, \n",
            "and then re-execute this cell.\n"
          ],
          "name": "stdout"
        }
      ]
    },
    {
      "cell_type": "code",
      "metadata": {
        "id": "bg0uSbHx3iBN",
        "colab_type": "code",
        "colab": {
          "base_uri": "https://localhost:8080/",
          "height": 102
        },
        "outputId": "c5cc9266-409a-4224-9a9a-dd728c9fa5e8"
      },
      "source": [
        "from psutil import virtual_memory\n",
        "ram_gb = virtual_memory().total / 1e9\n",
        "print('Your runtime has {:.1f} gigabytes of available RAM\\n'.format(ram_gb))\n",
        "\n",
        "if ram_gb < 20:\n",
        "  print('To enable a high-RAM runtime, select the Runtime > \"Change runtime type\"')\n",
        "  print('menu, and then select High-RAM in the Runtime shape dropdown. Then, ')\n",
        "  print('re-execute this cell.')\n",
        "else:\n",
        "  print('You are using a high-RAM runtime!')"
      ],
      "execution_count": null,
      "outputs": [
        {
          "output_type": "stream",
          "text": [
            "Your runtime has 13.7 gigabytes of available RAM\n",
            "\n",
            "To enable a high-RAM runtime, select the Runtime > \"Change runtime type\"\n",
            "menu, and then select High-RAM in the Runtime shape dropdown. Then, \n",
            "re-execute this cell.\n"
          ],
          "name": "stdout"
        }
      ]
    },
    {
      "cell_type": "markdown",
      "metadata": {
        "id": "hwkAeJp_uio_",
        "colab_type": "text"
      },
      "source": [
        "### Generate Data"
      ]
    },
    {
      "cell_type": "code",
      "metadata": {
        "id": "6Eqi2e_DuipA",
        "colab_type": "code",
        "colab": {
          "base_uri": "https://localhost:8080/",
          "height": 289
        },
        "outputId": "4fae68d5-6ff4-4b6b-eebc-ca87e71ec452"
      },
      "source": [
        "train_dataset, valid_dataset, test_dataset = get_dataset(which='colab', val_size=0.1, random_state=69)\n",
        "\n"
      ],
      "execution_count": 7,
      "outputs": [
        {
          "output_type": "stream",
          "text": [
            "Google Drive folder\n",
            "0 images and 9 slices loaded to array\n",
            "10 images and 94 slices loaded to array\n",
            "20 images and 185 slices loaded to array\n",
            "30 images and 277 slices loaded to array\n",
            "patient090 not found\n",
            "40 images and 374 slices loaded to array\n",
            "50 images and 470 slices loaded to array\n",
            "60 images and 556 slices loaded to array\n",
            "70 images and 668 slices loaded to array\n",
            "80 images and 773 slices loaded to array\n",
            "90 images and 869 slices loaded to array\n",
            "Image load complete. 99 images and 944 slices loaded successfully. \n",
            "(944, 256, 256, 1) (944, 256, 256, 1)\n",
            "[0. 1.]\n",
            "Training size: 764, Validation size: 85, Test size: 95\n"
          ],
          "name": "stdout"
        }
      ]
    },
    {
      "cell_type": "code",
      "metadata": {
        "id": "Qrs64P7euipG",
        "colab_type": "code",
        "colab": {}
      },
      "source": [
        "checkpoint_path = 'weights_1.h5'\n",
        "model_path = 'model_1.h5'"
      ],
      "execution_count": null,
      "outputs": []
    },
    {
      "cell_type": "markdown",
      "metadata": {
        "id": "vlLC5Bw-uipL",
        "colab_type": "text"
      },
      "source": [
        "### Help Functions"
      ]
    },
    {
      "cell_type": "code",
      "metadata": {
        "id": "uCyYe3MquipM",
        "colab_type": "code",
        "colab": {}
      },
      "source": [
        "\n",
        "\n",
        "def calc_intersect(point):\n",
        "    #cell_height = point[1]-int(point[1])\n",
        "    #return cell_height*255.0\n",
        "    return 255.0\n",
        "\n",
        "\n",
        "def calc_stepsize(nd, d, p_i, delta_t):\n",
        "    \"\"\"\n",
        "    Based on theroretical estimate, see report\n",
        "    \"\"\"\n",
        "    #return 1.0/((nd+d)*np.max(np.sum(p_i, axis=0)))\n",
        "    return delta_t/(np.sum(np.sqrt(np.sum(np.square(p_i), axis=1))))\n",
        "    \n",
        "\n",
        "\n",
        "def floodFill_start(img, row):\n",
        "    \"\"\"\n",
        "    Should be cleaned\n",
        "    \"\"\"\n",
        "    \"\"\"\n",
        "    Iterates outwards from start row to find point satisfied by\n",
        "    ray-casting algortihm to be inside spline\n",
        "    \"\"\"\n",
        "    if (row >= 256 or row < 0):\n",
        "        return False\n",
        "    next_row = int(row + 10)\n",
        "    intersect = np.where(img[row, :] > 0.0)[0]\n",
        "    nr_intersect = intersect.shape[0]\n",
        "    if (nr_intersect > 0):\n",
        "        if (intersect[0] > 0):\n",
        "            return (0, row)\n",
        "        else:\n",
        "            for i in range (0, nr_intersect-2, 2):\n",
        "                if (intersect[i+2]-intersect[i+1] > 1):\n",
        "                    return (int((intersect[i+1]+intersect[i])/2), row)\n",
        "        return floodFill_start(img, next_row)\n",
        "    else:\n",
        "        return floodFill_start(img, next_row)\n",
        "    \n",
        "    \n",
        "def floodFill_(img):\n",
        "    img = np.pad(img, 1, 'constant', constant_values=(0))\n",
        "    start_ind = floodFill_start(img, 0)\n",
        "    if not start_ind:\n",
        "        img[:,:] = 0\n",
        "    else:\n",
        "        img = img.astype('uint8')\n",
        "        img = floodFill(img, None, start_ind, 1.0)[1]\n",
        "        cond = np.where((img==0) | (img==1))\n",
        "        img[cond] = 1-img[cond]\n",
        "    img = img.astype('float32')\n",
        "    img[np.where(img > 1)] = img[np.where(img > 1)]/255.0\n",
        "    img = img[1:-1, 1:-1]\n",
        "    return img\n",
        "\n",
        "\n",
        "def get_spline_img(p, batch_size, n):\n",
        "    #time_start = time.time()\n",
        "    d = 3\n",
        "    nd = n+d\n",
        "    rows = 256\n",
        "    cols = 256\n",
        "    \n",
        "    img_batch = np.zeros((batch_size, rows, cols))\n",
        "    \n",
        "    # Iterate over all examples of batch\n",
        "    for i in range(batch_size):\n",
        "        p_i = p[i, :].reshape(n, 2)\n",
        "        p_temp = np.zeros((nd,2))\n",
        "        p_temp[:n] = p_i\n",
        "        p_temp[n:] = p_i[:d]\n",
        "        p_i = p_temp\n",
        "\n",
        "        t = np.linspace(0, 1, nd+d+1)\n",
        "        delta_t = 1/(nd+d)\n",
        "        spline = BSpline.construct_fast(t, p_i, d, 'periodic')\n",
        "\n",
        "        # Calculate step size\n",
        "        step = calc_stepsize(nd, d, p_i, delta_t)\n",
        "        \n",
        "        # Calculate spline\n",
        "        img = np.zeros((rows, cols))\n",
        "        t_n = np.linspace(0, 1, int(1.0/step))\n",
        "        for x in t_n:\n",
        "            point = spline(x)\n",
        "            col = int(point[0])\n",
        "            row = int(point[1])\n",
        "            if img[row, col] == 0:\n",
        "                img[row, col] = calc_intersect(point)\n",
        "        \n",
        "        # Flood fill spline\n",
        "        img_batch[i, :, :] = floodFill_(img)\n",
        "\n",
        "    return img_batch"
      ],
      "execution_count": null,
      "outputs": []
    },
    {
      "cell_type": "code",
      "metadata": {
        "id": "kfW0hX2IuipQ",
        "colab_type": "code",
        "colab": {}
      },
      "source": [
        "def seg_loss(labels, predictions, p, axis=0):\n",
        "    beta = 0.01\n",
        "    bce = tf.keras.losses.BinaryCrossentropy(reduction=tf.keras.losses.Reduction.NONE)\n",
        "    ce = tf.reduce_sum(bce(labels, predictions), axis=axis)\n",
        "    #reg = beta * tf.reduce_sum(tf.math.square(tf.abs(p-(256.0/2))), axis=1)\n",
        "    reg = tf.keras.losses.MSE(256.0/2, p)\n",
        "    reg = tf.cast(reg, dtype='float32')\n",
        "    return tf.math.add(ce, beta*reg)\n",
        "    #return reg\n",
        "\n",
        "                               \n",
        "@tf.custom_gradient\n",
        "def spline_loss(labels, predictions):\n",
        "    \n",
        "    labels = tf.squeeze(labels)\n",
        "    p = predictions.numpy() # Transform input tensor to numpy-array\n",
        "    batch_size, output_size = p.shape[0], p.shape[1]\n",
        "    n = int(output_size/2)  # n is number of control points\n",
        "    \n",
        "    # Calculate batch loss\n",
        "    predictions = tf.constant(get_spline_img(p, batch_size, n), dtype='float32')  # Draw spline from control points\n",
        "    predictions = tf.squeeze(predictions)\n",
        "    assert predictions.numpy()[np.where(predictions.numpy()>1)].size == 0\n",
        "    loss = seg_loss(labels, predictions, p, axis=1)\n",
        "    \n",
        "    # Custom gradient for spline loss\n",
        "    def spline_grad(dLoss, dPred):\n",
        "        \n",
        "        difference = 'central'\n",
        "        dP = 1.0\n",
        "        gradient = np.zeros((batch_size, output_size))\n",
        "        #ta = tf.TensorArray(tf.float32, size=0, dynamic_size=True, clear_after_read=False)\n",
        "        \n",
        "        # Iterate over all samples in batch\n",
        "        for sample in range(batch_size):\n",
        "            \n",
        "            # Kan NONE FJERNES? UNØDVENDIG DIM\n",
        "            p_sample = p[None, sample, :].copy()\n",
        "            \n",
        "             # Iterate over all control points to calculate gradient\n",
        "            for i in range(output_size):\n",
        "                \n",
        "                dP_ = np.zeros((1, output_size))\n",
        "                dP_[:,i] = dP\n",
        "                \n",
        "                \n",
        "                #Forward/backward difference approximation to gradient\n",
        "                if (difference == 'forward'):\n",
        "                    \n",
        "                    # Check if point close to boundary\n",
        "                    if (p_sample[:, i] + dP < 256.0/2):\n",
        "                        sign = 1\n",
        "                    else:\n",
        "                        sign = -1\n",
        "\n",
        "                    p_dP = p_sample + sign*dP_\n",
        "                    img = get_spline_img(p_dP, 1, n)\n",
        "\n",
        "                    # MÅ FJERNES HVIS VEKTORISERING\n",
        "                    img = np.squeeze(img)\n",
        "                    assert img[np.where(img>1)].size == 0\n",
        "\n",
        "                    loss_dP = seg_loss(labels[sample, :, :], tf.constant(img, dtype='float32'), p_dP, axis=0)\n",
        "                    gradient[sample, i] = sign*(loss_dP - loss[sample])/dP\n",
        "                \n",
        "                \n",
        "                # Central difference approximation to gradient\n",
        "                elif (difference == 'central'):\n",
        "                    \n",
        "                    if (p_sample[:, i] + dP < 256.0):\n",
        "                        p_dp_forw = p_sample + dP_\n",
        "                    else:\n",
        "                        p_dp_forw = p_sample\n",
        "                        \n",
        "                    if (p_sample[:, i] - dP >= 0.0):\n",
        "                        p_dp_back = p_sample - dP_\n",
        "                    else:\n",
        "                        p_dp_back = p_sample\n",
        "                        \n",
        "                    img_forw = get_spline_img(p_dp_forw, 1, n)\n",
        "                    img_back = get_spline_img(p_dp_back, 1, n)\n",
        "                    \n",
        "                    img_forw = np.squeeze(img_forw)\n",
        "                    assert img_forw[np.where(img_forw>1)].size == 0\n",
        "                    img_back = np.squeeze(img_back)\n",
        "                    assert img_back[np.where(img_back>1)].size == 0\n",
        "                    \n",
        "                    loss_dP_forw = seg_loss(labels[sample, :, :], tf.constant(img_forw, dtype='float32'), p_dp_forw, axis=0)\n",
        "                    loss_dP_back = seg_loss(labels[sample, :, :], tf.constant(img_back, dtype='float32'), p_dp_back, axis=0)\n",
        "                    gradient[sample, i] = (loss_dP_forw - loss_dP_back) / (2*dP)\n",
        "                    \n",
        "                    \n",
        "                #ta = ta.write(sample, sign*(loss_dP - loss[sample])/dP)\n",
        "                \"\"\"\n",
        "                if (i%8==0):\n",
        "                    print('control points: ', p_sample)\n",
        "                    print('Gradient: ', gradient[sample, i])\n",
        "                    plt.figure()\n",
        "                    plt.imshow(predictions[sample, :, :])\n",
        "                    plt.show()\n",
        "                \"\"\"\n",
        "                \n",
        "        gradient = tf.constant(gradient, dtype='float32')\n",
        "        #gradient = ta\n",
        "        #print(gradient)\n",
        "        return None, gradient\n",
        "\n",
        "    return (loss, predictions), spline_grad\n",
        "    \n",
        "    \n",
        "@tf.custom_gradient    \n",
        "def spline_loss_test(labels, predictions):\n",
        "    \n",
        "    #loss =  beta * tf.reduce_sum(tf.math.square(tf.abs(p-(256.0/2))), axis=1)\n",
        "    loss = tf.keras.losses.MSE(256.0/2, predictions)\n",
        "    #loss = tf.cast(loss, dtype='float32')\n",
        "    \n",
        "    def grad_fn(dLab):\n",
        "        grad = -2*(256.0/2 - predictions)\n",
        "        #grad = tf.cast(grad, dtype='float32')\n",
        "        return None, grad\n",
        "    \n",
        "    return loss, grad_fn\n",
        "    #return loss\n",
        "    \n",
        "\n",
        "# Train the model\n",
        "#@tf.function # Speeds things up\n",
        "# https://www.tensorflow.org/tutorials/customization/performance\n",
        "def model_train(features, labels):\n",
        "    \n",
        "    optimizer = tf.keras.optimizers.Adam(learning_rate=0.001)\n",
        "    \n",
        "    # Define the GradientTape context\n",
        "    with tf.GradientTape() as tape:\n",
        "        \n",
        "        # Get the probabilities\n",
        "        predictions = 255.9*model(features, training=True)\n",
        "\n",
        "        # Calculate the loss\n",
        "        loss, predictions = spline_loss(labels, predictions)\n",
        "        #loss = spline_loss_test(labels, predictions)\n",
        "\n",
        "    # Get the gradients\n",
        "    gradients = tape.gradient(loss, model.trainable_variables)\n",
        "    #print(gradients)\n",
        "    \n",
        "    # Update the weights\n",
        "    optimizer.apply_gradients(zip(gradients, model.trainable_variables))\n",
        "    \n",
        "    # Update the loss and accuracy\n",
        "    labels = tf.squeeze(labels)\n",
        "    train_loss(loss)\n",
        "    train_iou(labels, predictions)\n",
        "    \n",
        "\n",
        "def model_validate(features, labels):\n",
        "    predictions = 255.9*model(features, training=False)\n",
        "    v_loss, predictions = spline_loss(labels, predictions)\n",
        "    labels = tf.squeeze(labels)\n",
        "    valid_loss(v_loss)\n",
        "    valid_iou(labels, predictions)\n",
        "\n"
      ],
      "execution_count": null,
      "outputs": []
    },
    {
      "cell_type": "markdown",
      "metadata": {
        "id": "TviY9CSDuipX",
        "colab_type": "text"
      },
      "source": [
        "### Model"
      ]
    },
    {
      "cell_type": "markdown",
      "metadata": {
        "id": "E-Gj9vvZuipe",
        "colab_type": "text"
      },
      "source": [
        "### Train"
      ]
    },
    {
      "cell_type": "code",
      "metadata": {
        "id": "3hzuwSjhuipf",
        "colab_type": "code",
        "colab": {}
      },
      "source": [
        "train_loss = tf.keras.metrics.Mean(name=\"train_loss\")\n",
        "valid_loss = tf.keras.metrics.Mean(name=\"test_loss\")\n",
        "\n",
        "# Specify the performance metric\n",
        "train_iou = tf.keras.metrics.MeanIoU(num_classes=2, name=\"train_iou\")\n",
        "valid_iou = tf.keras.metrics.MeanIoU(num_classes=2, name=\"valid_iou\")"
      ],
      "execution_count": null,
      "outputs": []
    },
    {
      "cell_type": "code",
      "metadata": {
        "id": "zakS3AEQuipm",
        "colab_type": "code",
        "colab": {
          "base_uri": "https://localhost:8080/",
          "height": 343
        },
        "outputId": "9c044a4d-89ef-432b-aef1-3335ddef63f2"
      },
      "source": [
        "best_loss = 99999\n",
        "num_epochs = 60\n",
        "\n",
        "# Train the model for num_epochs\n",
        "for epoch in range(num_epochs):\n",
        "    \n",
        "    # Run the model through train and validation sets respectively\n",
        "    for (features, labels) in train_dataset:\n",
        "        model_train(features, labels)\n",
        "    \n",
        "    \n",
        "    for valid_features, valid_labels in valid_dataset:\n",
        "        model_validate(valid_features, valid_labels)\n",
        "        \n",
        "    \n",
        "    # Grab the results\n",
        "    (loss, iou) = train_loss.result(), train_iou.result()\n",
        "    #loss = train_loss.result()\n",
        "    (val_loss, val_iou) = valid_loss.result(), valid_iou.result()\n",
        "\n",
        "    # Clear the current state of the metrics\n",
        "    train_loss.reset_states(), train_iou.reset_states()\n",
        "    valid_loss.reset_states(), valid_iou.reset_states()\n",
        "    \n",
        "    #print(f'Epoch: {epoch}, Loss: {loss}')\n",
        "    \n",
        "    # Local logging\n",
        "    \n",
        "    template = \"Epoch {}, loss: {:.3f}, iou: {:.3f}, val_loss: {:.3f}, val_iou: {:.3f}\"\n",
        "    print (template.format(epoch+1,\n",
        "                        loss,\n",
        "                        iou,\n",
        "                        val_loss,\n",
        "                        val_iou))\n",
        "    \n",
        "    if (val_loss < best_loss):\n",
        "        best_loss = val_loss\n",
        "        model.save_weights('model.h5')\n",
        "        print(f'New low val_loss. Model weights saved.')\n",
        "\n",
        "    model.save('colab1_epoch'+str(epoch))\n",
        "        \n",
        "        \n",
        "    # Logging with W&B\n",
        "    \"\"\"\n",
        "    wandb.log({\"train_loss\": loss.numpy(),\n",
        "              \"train_accuracy\": acc.numpy(),\n",
        "              \"val_loss\": val_loss.numpy(),\n",
        "              \"val_accuracy\": val_acc.numpy()\n",
        "    })\n",
        "    get_sample_predictions() # More on this later\n",
        "    \"\"\""
      ],
      "execution_count": null,
      "outputs": [
        {
          "output_type": "stream",
          "text": [
            "Epoch 1, loss: 433.256, iou: 0.520, val_loss: 175.035, val_iou: 0.620\n",
            "New low val_loss. Model weights saved.\n",
            "WARNING:tensorflow:From /usr/local/lib/python3.6/dist-packages/tensorflow/python/ops/resource_variable_ops.py:1817: calling BaseResourceVariable.__init__ (from tensorflow.python.ops.resource_variable_ops) with constraint is deprecated and will be removed in a future version.\n",
            "Instructions for updating:\n",
            "If using Keras pass *_constraint arguments to layers.\n",
            "INFO:tensorflow:Assets written to: colab1_epoch0/assets\n",
            "Epoch 2, loss: 197.629, iou: 0.566, val_loss: 178.064, val_iou: 0.526\n",
            "INFO:tensorflow:Assets written to: colab1_epoch1/assets\n",
            "Epoch 3, loss: 190.989, iou: 0.599, val_loss: 189.266, val_iou: 0.489\n",
            "INFO:tensorflow:Assets written to: colab1_epoch2/assets\n",
            "Epoch 4, loss: 196.282, iou: 0.582, val_loss: 190.546, val_iou: 0.490\n",
            "INFO:tensorflow:Assets written to: colab1_epoch3/assets\n",
            "Epoch 5, loss: 189.590, iou: 0.558, val_loss: 247.630, val_iou: 0.671\n",
            "INFO:tensorflow:Assets written to: colab1_epoch4/assets\n",
            "Epoch 6, loss: 197.888, iou: 0.626, val_loss: 185.355, val_iou: 0.506\n",
            "INFO:tensorflow:Assets written to: colab1_epoch5/assets\n",
            "Epoch 7, loss: 181.339, iou: 0.611, val_loss: 189.038, val_iou: 0.502\n",
            "INFO:tensorflow:Assets written to: colab1_epoch6/assets\n"
          ],
          "name": "stdout"
        }
      ]
    },
    {
      "cell_type": "code",
      "metadata": {
        "id": "Gp3OEMbD9E7h",
        "colab_type": "code",
        "colab": {
          "base_uri": "https://localhost:8080/",
          "height": 105
        },
        "outputId": "d4252e2d-9c23-4d20-aaa8-46fe350d6d7a"
      },
      "source": [
        "model.save('colab1')"
      ],
      "execution_count": null,
      "outputs": [
        {
          "output_type": "stream",
          "text": [
            "WARNING:tensorflow:From /usr/local/lib/python3.6/dist-packages/tensorflow/python/ops/resource_variable_ops.py:1817: calling BaseResourceVariable.__init__ (from tensorflow.python.ops.resource_variable_ops) with constraint is deprecated and will be removed in a future version.\n",
            "Instructions for updating:\n",
            "If using Keras pass *_constraint arguments to layers.\n",
            "INFO:tensorflow:Assets written to: colab1/assets\n"
          ],
          "name": "stdout"
        }
      ]
    },
    {
      "cell_type": "code",
      "metadata": {
        "id": "EQtPO2O39k0J",
        "colab_type": "code",
        "colab": {
          "base_uri": "https://localhost:8080/",
          "height": 119
        },
        "outputId": "0e1f387f-cf9d-4213-d05f-77932185b5b2"
      },
      "source": [
        "!zip -r /content/file.zip /content/colab1"
      ],
      "execution_count": null,
      "outputs": [
        {
          "output_type": "stream",
          "text": [
            "  adding: content/colab1/ (stored 0%)\n",
            "  adding: content/colab1/saved_model.pb (deflated 91%)\n",
            "  adding: content/colab1/assets/ (stored 0%)\n",
            "  adding: content/colab1/variables/ (stored 0%)\n",
            "  adding: content/colab1/variables/variables.index (deflated 55%)\n",
            "  adding: content/colab1/variables/variables.data-00000-of-00001 (deflated 7%)\n"
          ],
          "name": "stdout"
        }
      ]
    },
    {
      "cell_type": "markdown",
      "metadata": {
        "id": "chHsGHmAuips",
        "colab_type": "text"
      },
      "source": [
        "### Evaluate"
      ]
    },
    {
      "cell_type": "code",
      "metadata": {
        "id": "TOy2Wdc1uipt",
        "colab_type": "code",
        "colab": {
          "base_uri": "https://localhost:8080/"
        },
        "outputId": "a26edeea-fc99-4e7b-8644-e7fa6ddbfe98"
      },
      "source": [
        "preds = model.predict(test_dataset)\n",
        "print(np.unique(preds))\n",
        "\n",
        "i = 2\n",
        "\n",
        "print(preds[i, :])\n",
        "\n",
        "spline = Spline(preds[i, :])\n",
        "spline.drawCurve()\n",
        "spline.get_spline(flood=True)"
      ],
      "execution_count": null,
      "outputs": [
        {
          "output_type": "stream",
          "text": [
            "[0.33877456 0.38818607 0.39782855 0.4030691  0.40885472 0.41224194\n",
            " 0.41232866 0.41848627 0.42018968 0.4430095  0.45258883 0.4532796\n",
            " 0.45670137 0.45972478 0.46673796 0.4790098  0.479227   0.48296556\n",
            " 0.48407167 0.48463652 0.48806503 0.48832327 0.48921683 0.491038\n",
            " 0.49206692 0.49285597 0.4937117  0.49569395 0.49784938 0.49883184\n",
            " 0.49893823 0.49968386 0.5049194  0.5080964  0.50833666 0.50842637\n",
            " 0.5115003  0.5142239  0.51446015 0.5150351  0.5161547  0.51727074\n",
            " 0.5179535  0.5181016  0.5212381  0.52347183 0.52718    0.52779603\n",
            " 0.52821875 0.5285993  0.52898574 0.53040314 0.53147626 0.5318173\n",
            " 0.5369281  0.53805065 0.5512929  0.5557447  0.5568729  0.5623254\n",
            " 0.5788398  0.5900296  0.6140905  0.66932213]\n",
            "[0.4937117  0.41848627 0.42018968 0.46673796 0.479227   0.52779603\n",
            " 0.51446015 0.5161547  0.5179535  0.5049194  0.5142239  0.49285597\n",
            " 0.48921683 0.5115003  0.5369281  0.52347183]\n"
          ],
          "name": "stdout"
        },
        {
          "output_type": "display_data",
          "data": {
            "image/png": "[encoded data removed]",
            "text/plain": [
              "<Figure size 432x288 with 1 Axes>"
            ]
          },
          "metadata": {
            "tags": [],
            "needs_background": "light"
          }
        },
        {
          "output_type": "display_data",
          "data": {
            "image/png": "[encoded data removed]",
            "text/plain": [
              "<Figure size 720x720 with 1 Axes>"
            ]
          },
          "metadata": {
            "tags": [],
            "needs_background": "light"
          }
        },
        {
          "output_type": "execute_result",
          "data": {
            "text/plain": [
              "array([[0., 0., 0., ..., 0., 0., 0.],\n",
              "       [0., 0., 0., ..., 0., 0., 0.],\n",
              "       [0., 0., 0., ..., 0., 0., 0.],\n",
              "       ...,\n",
              "       [0., 0., 0., ..., 0., 0., 0.],\n",
              "       [0., 0., 0., ..., 0., 0., 0.],\n",
              "       [0., 0., 0., ..., 0., 0., 0.]], dtype=float32)"
            ]
          },
          "metadata": {
            "tags": []
          },
          "execution_count": 29
        }
      ]
    },
    {
      "cell_type": "code",
      "metadata": {
        "id": "WPf3oqUduipx",
        "colab_type": "code",
        "colab": {}
      },
      "source": [
        "preds = model.predict(X_test)\n",
        "print(np.unique(preds))\n",
        "\n",
        "print(preds[0, :])\n",
        "\n",
        "spline = Spline(preds[0, :])\n",
        "spline.drawCurve()\n",
        "spline.get_spline(flood=True)"
      ],
      "execution_count": null,
      "outputs": []
    },
    {
      "cell_type": "code",
      "metadata": {
        "id": "vUn0WUcQuip3",
        "colab_type": "code",
        "colab": {}
      },
      "source": [
        "plt.imshow(np.squeeze(y_test[1,:]))"
      ],
      "execution_count": null,
      "outputs": []
    },
    {
      "cell_type": "code",
      "metadata": {
        "id": "hVkQHtltuip7",
        "colab_type": "code",
        "colab": {}
      },
      "source": [
        "a = preds[None, 1, :].copy()\n",
        "print(a.shape)\n",
        "\n",
        "valid_acc(y_test[1,:], get_spline_img(preds[None, 1, :], 1, 8))"
      ],
      "execution_count": null,
      "outputs": []
    },
    {
      "cell_type": "code",
      "metadata": {
        "id": "dP4_L_Pbuip-",
        "colab_type": "code",
        "colab": {}
      },
      "source": [
        "preds[1, :]"
      ],
      "execution_count": null,
      "outputs": []
    },
    {
      "cell_type": "code",
      "metadata": {
        "id": "JyscECW2uiqB",
        "colab_type": "code",
        "colab": {}
      },
      "source": [
        "a = np.ones(5)\n",
        "a[0] = 0\n",
        "a[1] = 0.2\n",
        "a[2] = 10\n",
        "b = np.zeros(5)\n",
        "bce = tf.keras.losses.BinaryCrossentropy(reduction=tf.keras.losses.Reduction.NONE)\n",
        "print(bce(a,b))\n",
        "assert a[np.where(a>1)].size == 0"
      ],
      "execution_count": null,
      "outputs": []
    },
    {
      "cell_type": "code",
      "metadata": {
        "id": "Dq6UmYiauiqE",
        "colab_type": "code",
        "colab": {}
      },
      "source": [
        "model.layers[10].get_weights()"
      ],
      "execution_count": null,
      "outputs": []
    },
    {
      "cell_type": "code",
      "metadata": {
        "id": "kNqRo65DuiqG",
        "colab_type": "code",
        "colab": {}
      },
      "source": [
        "p = np.ones((2, 10))\n",
        "pd = tf.reduce_sum(tf.abs(p-256/2), axis=1)\n",
        "pd.dtype"
      ],
      "execution_count": null,
      "outputs": []
    },
    {
      "cell_type": "code",
      "metadata": {
        "id": "gP3s-At5nE-X",
        "colab_type": "code",
        "colab": {}
      },
      "source": [
        "### VISUALIZATION"
      ],
      "execution_count": null,
      "outputs": []
    },
    {
      "cell_type": "code",
      "metadata": {
        "id": "7HAJcbPVnSJA",
        "colab_type": "code",
        "colab": {}
      },
      "source": [
        "def plot_sample_one_model(X, y, savename='cardiacmri.pdf', ix=None):\n",
        "    \n",
        "    plt.rcParams.update({'font.size': 18})\n",
        "\n",
        "    # Create ground truth masks\n",
        "    y_mask = y.copy()\n",
        "    y_mask = np.ma.masked_where(y_mask < 0.5, y_mask)\n",
        "    \n",
        "    \n",
        "    \"\"\"Function to plot the results\"\"\"\n",
        "    if ix is None:\n",
        "        ix = random.randint(0, len(X))\n",
        "\n",
        "    has_mask = y[ix].max() > 0\n",
        "\n",
        "    fig, ax = plt.subplots(1, 2, figsize=(13, 13))\n",
        "    \n",
        "    # Turn off tick labels\n",
        "    ax[0].set_yticklabels([])\n",
        "    ax[0].set_xticklabels([])\n",
        "    ax[1].set_yticklabels([])\n",
        "    ax[1].set_xticklabels([])\n",
        "  \n",
        "    ax[0].imshow(X[ix, ..., 0], cmap='gray')\n",
        "    #ax[0].imshow(preds_mask[ix, ..., 0], cmap='prism', interpolation='none', alpha=0.6)\n",
        "    #if has_mask:\n",
        "        #ax[0].contour(preds[ix].squeeze(), colors='y', levels=[0.5])\n",
        "    ax[0].set_title('Cardiac MRI-image')\n",
        "    \n",
        "    #ax[1].imshow(y[ix].squeeze())\n",
        "    #ax[1].set_title('Ground truth mask')\n",
        "    \n",
        "    \n",
        "    ax[1].imshow(X[ix, ..., 0], cmap='gray')\n",
        "    if has_mask:\n",
        "        ax[1].imshow(y_mask[ix].squeeze(), cmap='prism', interpolation='none', alpha=0.6)\n",
        "    ax[1].set_title('Ground truth mask');\n",
        "    \n",
        "    \n",
        "    plt.savefig(savename)"
      ],
      "execution_count": 59,
      "outputs": []
    },
    {
      "cell_type": "code",
      "metadata": {
        "id": "o4S6ZgyfoNQB",
        "colab_type": "code",
        "colab": {
          "base_uri": "https://localhost:8080/",
          "height": 289
        },
        "outputId": "a5e69844-d4a7-4454-ae5e-85ec239e3646"
      },
      "source": [
        "X_train, X_test = get_raw_dataset()"
      ],
      "execution_count": 32,
      "outputs": [
        {
          "output_type": "stream",
          "text": [
            "Google Drive folder\n",
            "0 images and 9 slices loaded to array\n",
            "10 images and 94 slices loaded to array\n",
            "20 images and 185 slices loaded to array\n",
            "30 images and 277 slices loaded to array\n",
            "patient090 not found\n",
            "40 images and 374 slices loaded to array\n",
            "50 images and 470 slices loaded to array\n",
            "60 images and 556 slices loaded to array\n",
            "70 images and 668 slices loaded to array\n",
            "80 images and 773 slices loaded to array\n",
            "90 images and 869 slices loaded to array\n",
            "Image load complete. 99 images and 944 slices loaded successfully. \n",
            "(944, 256, 256, 1) (944, 256, 256, 1)\n",
            "[0. 1.]\n",
            "Training size: 764, Validation size: 85, Test size: 95\n"
          ],
          "name": "stdout"
        }
      ]
    },
    {
      "cell_type": "code",
      "metadata": {
        "id": "wrCcTK1gn-eX",
        "colab_type": "code",
        "colab": {
          "base_uri": "https://localhost:8080/",
          "height": 386
        },
        "outputId": "d97ed828-eeec-43ec-9179-964e1128e987"
      },
      "source": [
        "plot_sample_one_model(X_train, X_test, ix=32)"
      ],
      "execution_count": 61,
      "outputs": [
        {
          "output_type": "display_data",
          "data": {
            "image/png": "[encoded data removed]",
            "text/plain": [
              "<Figure size 936x936 with 2 Axes>"
            ]
          },
          "metadata": {
            "tags": [],
            "needs_background": "light"
          }
        }
      ]
    }
  ]
}