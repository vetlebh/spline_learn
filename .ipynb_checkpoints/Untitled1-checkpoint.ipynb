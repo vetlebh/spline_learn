{
 "cells": [
  {
   "cell_type": "code",
   "execution_count": null,
   "metadata": {},
   "outputs": [],
   "source": [
    "import numpy as np\n",
    "import matplotlib.pyplot as plt\n",
    "import os\n"
   ]
  },
  {
   "cell_type": "code",
   "execution_count": null,
   "metadata": {},
   "outputs": [],
   "source": [
    "inp = 'hello'\n",
    "\n",
    "print([chr for chr in inp if chr.isalpha()]) "
   ]
  },
  {
   "cell_type": "code",
   "execution_count": null,
   "metadata": {},
   "outputs": [],
   "source": [
    "lst = []\n",
    "lst.append(chr for chr in inp if chr.isalpha())\n",
    "print(lst)"
   ]
  },
  {
   "cell_type": "code",
   "execution_count": null,
   "metadata": {},
   "outputs": [],
   "source": [
    "def read_first_line(path):\n",
    "    file = None\n",
    "    first_line = None\n",
    "    try:\n",
    "        file = open(path)\n",
    "        first_line = file.readline()\n",
    "    except IOError as e:\n",
    "        print('Error')\n",
    "    finally:\n",
    "        if file is not None:\n",
    "            try:\n",
    "                file.close()\n",
    "            except:\n",
    "                pass\n",
    "    return first_line\n",
    "\n"
   ]
  },
  {
   "cell_type": "code",
   "execution_count": 5,
   "metadata": {},
   "outputs": [
    {
     "name": "stdout",
     "output_type": "stream",
     "text": [
      "TEST DOME \n"
     ]
    }
   ],
   "source": [
    "def numbers_to_letters(s):\n",
    "    output = ''\n",
    "    word_split = s.split('+')\n",
    "    for word in word_split:\n",
    "        letter_split = word.split()\n",
    "        for letter in letter_split:\n",
    "            output += chr(int(letter)+64)\n",
    "        output += ' '\n",
    "    return(output)\n",
    "    \n",
    "    \n",
    "numbers_to_letters('20 5 19 20+4 15 13 5')"
   ]
  },
  {
   "cell_type": "code",
   "execution_count": 2,
   "metadata": {},
   "outputs": [
    {
     "name": "stdout",
     "output_type": "stream",
     "text": [
      "A\n"
     ]
    }
   ],
   "source": [
    "print(chr(65))"
   ]
  }
 ],
 "metadata": {
  "kernelspec": {
   "display_name": "Python 3",
   "language": "python",
   "name": "python3"
  },
  "language_info": {
   "codemirror_mode": {
    "name": "ipython",
    "version": 3
   },
   "file_extension": ".py",
   "mimetype": "text/x-python",
   "name": "python",
   "nbconvert_exporter": "python",
   "pygments_lexer": "ipython3",
   "version": "3.7.7"
  }
 },
 "nbformat": 4,
 "nbformat_minor": 4
}
