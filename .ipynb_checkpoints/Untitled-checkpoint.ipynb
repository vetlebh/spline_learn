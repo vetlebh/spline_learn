{
 "cells": [
  {
   "cell_type": "code",
   "execution_count": 4,
   "metadata": {},
   "outputs": [],
   "source": [
    "import numpy as np\n",
    "import matplotlib.pyplot as plt"
   ]
  },
  {
   "cell_type": "code",
   "execution_count": 44,
   "metadata": {},
   "outputs": [],
   "source": [
    "def b(d, t, i, x):\n",
    "    if (d>0):\n",
    "        if (t[i+d]-t[i]==0):\n",
    "            a = 0\n",
    "        else:\n",
    "            a = (x-t[i])/(t[i+d]-t[i])\n",
    "        if (t[i+d+1]-t[i+1]==0):\n",
    "            c = 0\n",
    "        else:\n",
    "            c = (t[i+d+1]-x)/(t[i+d+1]-t[i+1])\n",
    "        return a*b(d-1, t, i, x) + c*b(d-1, t, i+1, x)\n",
    "    elif (d==0):\n",
    "        if(t[i]<x<=t[i+1]):\n",
    "            return 1\n",
    "        elif (x>t[i+1]):\n",
    "            return 0\n",
    "        elif (x<=t[i]):\n",
    "            return 0\n",
    "    "
   ]
  },
  {
   "cell_type": "code",
   "execution_count": 112,
   "metadata": {},
   "outputs": [
    {
     "data": {
      "image/png": "[encoded data removed]",
      "text/plain": [
       "<Figure size 432x288 with 1 Axes>"
      ]
     },
     "metadata": {
      "needs_background": "light"
     },
     "output_type": "display_data"
    }
   ],
   "source": [
    " t = np.array([0, 1, 2, 3, 4, 5])\n",
    "x = np.linspace(0, 5, 1000)\n",
    "y1 = []\n",
    "y2 = []\n",
    "y3 = []\n",
    "y4 = []\n",
    "y5 = []\n",
    "\n",
    "d = 2\n",
    "\n",
    "for delx in x:\n",
    "    y1.append(b(d, t, 0, delx))\n",
    "    y2.append(b(d, t, 1, delx))\n",
    "    y3.append(b(d, t, 2, delx))\n",
    "    #y4.append(b(d, t, 3, delx))\n",
    "    #y5.append(b(d, t, 4, delx))\n",
    "plt.figure()\n",
    "plt.plot(x, y1)\n",
    "plt.plot(x, y2)\n",
    "plt.plot(x, y3)\n",
    "#plt.plot(x, y4)\n",
    "#plt.plot(x, y5)\n",
    "plt.savefig('hm.pdf')"
   ]
  },
  {
   "cell_type": "code",
   "execution_count": 130,
   "metadata": {},
   "outputs": [
    {
     "name": "stdout",
     "output_type": "stream",
     "text": [
      "Nr control points: 6\n"
     ]
    },
    {
     "ename": "IndexError",
     "evalue": "index 6 is out of bounds for axis 0 with size 6",
     "output_type": "error",
     "traceback": [
      "\u001b[0;31m---------------------------------------------------------------------------\u001b[0m",
      "\u001b[0;31mIndexError\u001b[0m                                Traceback (most recent call last)",
      "\u001b[0;32m<ipython-input-130-c5805454e867>\u001b[0m in \u001b[0;36m<module>\u001b[0;34m\u001b[0m\n\u001b[1;32m     16\u001b[0m \u001b[0mx\u001b[0m \u001b[0;34m=\u001b[0m \u001b[0mnp\u001b[0m\u001b[0;34m.\u001b[0m\u001b[0mlinspace\u001b[0m\u001b[0;34m(\u001b[0m\u001b[0mt\u001b[0m\u001b[0;34m[\u001b[0m\u001b[0md\u001b[0m\u001b[0;34m]\u001b[0m\u001b[0;34m,\u001b[0m \u001b[0mt\u001b[0m\u001b[0;34m[\u001b[0m\u001b[0;34m-\u001b[0m\u001b[0md\u001b[0m\u001b[0;34m]\u001b[0m\u001b[0;34m,\u001b[0m \u001b[0;36m100\u001b[0m\u001b[0;34m)\u001b[0m\u001b[0;34m\u001b[0m\u001b[0;34m\u001b[0m\u001b[0m\n\u001b[1;32m     17\u001b[0m \u001b[0;34m\u001b[0m\u001b[0m\n\u001b[0;32m---> 18\u001b[0;31m \u001b[0my\u001b[0m \u001b[0;34m=\u001b[0m \u001b[0mbspline\u001b[0m\u001b[0;34m(\u001b[0m\u001b[0mc\u001b[0m\u001b[0;34m,\u001b[0m \u001b[0mt\u001b[0m\u001b[0;34m,\u001b[0m \u001b[0mx\u001b[0m\u001b[0;34m,\u001b[0m \u001b[0;36m3\u001b[0m\u001b[0;34m)\u001b[0m\u001b[0;34m\u001b[0m\u001b[0;34m\u001b[0m\u001b[0m\n\u001b[0m\u001b[1;32m     19\u001b[0m \u001b[0;34m\u001b[0m\u001b[0m\n\u001b[1;32m     20\u001b[0m \u001b[0mplt\u001b[0m\u001b[0;34m.\u001b[0m\u001b[0mfigure\u001b[0m\u001b[0;34m(\u001b[0m\u001b[0;34m)\u001b[0m\u001b[0;34m\u001b[0m\u001b[0;34m\u001b[0m\u001b[0m\n",
      "\u001b[0;32m<ipython-input-130-c5805454e867>\u001b[0m in \u001b[0;36mbspline\u001b[0;34m(c, t, x, d)\u001b[0m\n\u001b[1;32m     10\u001b[0m         \u001b[0my_k\u001b[0m \u001b[0;34m=\u001b[0m \u001b[0;36m0\u001b[0m\u001b[0;34m\u001b[0m\u001b[0;34m\u001b[0m\u001b[0m\n\u001b[1;32m     11\u001b[0m         \u001b[0;32mfor\u001b[0m \u001b[0mi\u001b[0m \u001b[0;32min\u001b[0m \u001b[0mrange\u001b[0m\u001b[0;34m(\u001b[0m\u001b[0mn\u001b[0m\u001b[0;34m)\u001b[0m\u001b[0;34m:\u001b[0m\u001b[0;34m\u001b[0m\u001b[0;34m\u001b[0m\u001b[0m\n\u001b[0;32m---> 12\u001b[0;31m             \u001b[0my_k\u001b[0m \u001b[0;34m+=\u001b[0m \u001b[0mc\u001b[0m\u001b[0;34m[\u001b[0m\u001b[0mi\u001b[0m\u001b[0;34m]\u001b[0m\u001b[0;34m*\u001b[0m\u001b[0mb\u001b[0m\u001b[0;34m(\u001b[0m\u001b[0md\u001b[0m\u001b[0;34m,\u001b[0m \u001b[0mt\u001b[0m\u001b[0;34m,\u001b[0m \u001b[0mi\u001b[0m\u001b[0;34m,\u001b[0m \u001b[0mdelx\u001b[0m\u001b[0;34m)\u001b[0m\u001b[0;34m\u001b[0m\u001b[0;34m\u001b[0m\u001b[0m\n\u001b[0m\u001b[1;32m     13\u001b[0m         \u001b[0my\u001b[0m\u001b[0;34m.\u001b[0m\u001b[0mappend\u001b[0m\u001b[0;34m(\u001b[0m\u001b[0my_k\u001b[0m\u001b[0;34m)\u001b[0m\u001b[0;34m\u001b[0m\u001b[0;34m\u001b[0m\u001b[0m\n\u001b[1;32m     14\u001b[0m     \u001b[0;32mreturn\u001b[0m \u001b[0my\u001b[0m\u001b[0;34m\u001b[0m\u001b[0;34m\u001b[0m\u001b[0m\n",
      "\u001b[0;32m<ipython-input-44-6bbeb31d01c2>\u001b[0m in \u001b[0;36mb\u001b[0;34m(d, t, i, x)\u001b[0m\n\u001b[1;32m      5\u001b[0m         \u001b[0;32melse\u001b[0m\u001b[0;34m:\u001b[0m\u001b[0;34m\u001b[0m\u001b[0;34m\u001b[0m\u001b[0m\n\u001b[1;32m      6\u001b[0m             \u001b[0ma\u001b[0m \u001b[0;34m=\u001b[0m \u001b[0;34m(\u001b[0m\u001b[0mx\u001b[0m\u001b[0;34m-\u001b[0m\u001b[0mt\u001b[0m\u001b[0;34m[\u001b[0m\u001b[0mi\u001b[0m\u001b[0;34m]\u001b[0m\u001b[0;34m)\u001b[0m\u001b[0;34m/\u001b[0m\u001b[0;34m(\u001b[0m\u001b[0mt\u001b[0m\u001b[0;34m[\u001b[0m\u001b[0mi\u001b[0m\u001b[0;34m+\u001b[0m\u001b[0md\u001b[0m\u001b[0;34m]\u001b[0m\u001b[0;34m-\u001b[0m\u001b[0mt\u001b[0m\u001b[0;34m[\u001b[0m\u001b[0mi\u001b[0m\u001b[0;34m]\u001b[0m\u001b[0;34m)\u001b[0m\u001b[0;34m\u001b[0m\u001b[0;34m\u001b[0m\u001b[0m\n\u001b[0;32m----> 7\u001b[0;31m         \u001b[0;32mif\u001b[0m \u001b[0;34m(\u001b[0m\u001b[0mt\u001b[0m\u001b[0;34m[\u001b[0m\u001b[0mi\u001b[0m\u001b[0;34m+\u001b[0m\u001b[0md\u001b[0m\u001b[0;34m+\u001b[0m\u001b[0;36m1\u001b[0m\u001b[0;34m]\u001b[0m\u001b[0;34m-\u001b[0m\u001b[0mt\u001b[0m\u001b[0;34m[\u001b[0m\u001b[0mi\u001b[0m\u001b[0;34m+\u001b[0m\u001b[0;36m1\u001b[0m\u001b[0;34m]\u001b[0m\u001b[0;34m==\u001b[0m\u001b[0;36m0\u001b[0m\u001b[0;34m)\u001b[0m\u001b[0;34m:\u001b[0m\u001b[0;34m\u001b[0m\u001b[0;34m\u001b[0m\u001b[0m\n\u001b[0m\u001b[1;32m      8\u001b[0m             \u001b[0mc\u001b[0m \u001b[0;34m=\u001b[0m \u001b[0;36m0\u001b[0m\u001b[0;34m\u001b[0m\u001b[0;34m\u001b[0m\u001b[0m\n\u001b[1;32m      9\u001b[0m         \u001b[0;32melse\u001b[0m\u001b[0;34m:\u001b[0m\u001b[0;34m\u001b[0m\u001b[0;34m\u001b[0m\u001b[0m\n",
      "\u001b[0;31mIndexError\u001b[0m: index 6 is out of bounds for axis 0 with size 6"
     ]
    }
   ],
   "source": [
    "c = np.array([10, 0, 5, 3, 1])\n",
    "t = np.array([0, 1, 2, 3, 4, 5])\n",
    "d = 0\n",
    "\n",
    "def bspline(c, t, x, d):\n",
    "    n = t.shape[0]-d-1\n",
    "    y = []\n",
    "    print(f'Nr control points: {n}')\n",
    "    for delx in x:\n",
    "        y_k = 0\n",
    "        for i in range(n):\n",
    "            y_k += c[i]*b(d, t, i, delx)\n",
    "        y.append(y_k)\n",
    "    return y\n",
    "\n",
    "x = np.linspace(t[d], t[-d], 100)\n",
    "    \n",
    "y = bspline(c, t, x, 3)\n",
    "    \n",
    "plt.figure()\n",
    "plt.plot(x, y, color='red')\n",
    "\n",
    "ax = plt.axes()\n",
    "plt.xticks(t)\n",
    "ax.xaxis.grid() # vertical lines\n",
    "\n",
    "plt.xlabel('t')\n",
    "plt.ylabel('x')\n",
    "plt.savefig('spline_curve'+str(d)+'.pdf')"
   ]
  },
  {
   "cell_type": "code",
   "execution_count": 123,
   "metadata": {},
   "outputs": [
    {
     "name": "stdout",
     "output_type": "stream",
     "text": [
      "Nr control points: 6\n"
     ]
    },
    {
     "name": "stderr",
     "output_type": "stream",
     "text": [
      "/Users/vetlebh/miniconda3/envs/model/lib/python3.7/site-packages/ipykernel_launcher.py:31: MatplotlibDeprecationWarning: Adding an axes using the same arguments as a previous axes currently reuses the earlier instance.  In a future version, a new instance will always be created and returned.  Meanwhile, this warning can be suppressed, and the future behavior ensured, by passing a unique label to each axes instance.\n"
     ]
    },
    {
     "data": {
      "image/png": "[encoded data removed]",
      "text/plain": [
       "<Figure size 432x288 with 1 Axes>"
      ]
     },
     "metadata": {
      "needs_background": "light"
     },
     "output_type": "display_data"
    }
   ],
   "source": [
    "c = np.array([[0, 0], [3, 10], [5, 5], [3, -1], [0, 0], [3, 10]])\n",
    "#t = np.array([0.0, 0.0, 0.25, 0.5, 0.75, 1.0, 1.0])\n",
    "#t = np.array([0.0, 0.000, 0.250, 0.50, 0.750, 1.000, 1.0])\n",
    "t = np.array([0.0, 0.0, 0.163, 0.333, 0.50, 0.666, 0.833, 1.0, 1.0])\n",
    "\n",
    "def bspline(c, t, x):\n",
    "    d = 2\n",
    "    n = t.shape[0]-d-1\n",
    "    dim=2\n",
    "    y = np.zeros((x.shape[0], dim))\n",
    "    print(f'Nr control points: {n}')\n",
    "    j=0\n",
    "    for delx in x:\n",
    "        y_k = 0\n",
    "        for i in range(n):\n",
    "            y_k += c[i]*b(d, t, i, delx)\n",
    "        y[j]=y_k\n",
    "        j+=1\n",
    "    return y\n",
    "\n",
    "x = np.linspace(t[2], t[-3], 20)\n",
    "    \n",
    "y = bspline(c, t, x)\n",
    "\n",
    "    \n",
    "plt.figure()\n",
    "plt.plot(y[:,0], y[:,1], color='red')\n",
    "#plt.scatter(y[:,0], y[:,1], color='red')\n",
    "#plt.plot(x, y2)\n",
    "#plt.plot(x, y3, color='green')\n",
    "ax = plt.axes()\n",
    "#plt.plot(x, y2)\n",
    "#plt.plot(x, y3)\n",
    "plt.xlabel('x')\n",
    "plt.ylabel('y')\n",
    "\n",
    "for ind in c:\n",
    "    plt.scatter(ind[0], ind[1], color='blue')\n",
    "\n",
    "plt.show()\n",
    "\n"
   ]
  },
  {
   "cell_type": "code",
   "execution_count": 103,
   "metadata": {},
   "outputs": [
    {
     "data": {
      "text/plain": [
       "array([[ 0.        ,  0.        ],\n",
       "       [ 0.06648199,  0.22160665],\n",
       "       [ 0.26592798,  0.88642659],\n",
       "       [ 0.59833795,  1.99445983],\n",
       "       [ 1.06371191,  3.54570637],\n",
       "       [ 1.6565097 ,  5.50554017],\n",
       "       [ 2.25484765,  7.11218837],\n",
       "       [ 2.80886427,  8.05401662],\n",
       "       [ 3.31855956,  8.33102493],\n",
       "       [ 3.78393352,  7.9432133 ],\n",
       "       [ 4.18836565,  6.96814404],\n",
       "       [ 4.43213296,  5.87119114],\n",
       "       [ 4.49861496,  4.7299169 ],\n",
       "       [ 4.38781163,  3.54432133],\n",
       "       [ 4.09972299,  2.31440443],\n",
       "       [ 3.63434903,  1.15235457],\n",
       "       [ 2.99168975,  0.33240997],\n",
       "       [ 2.17174515, -0.13296399],\n",
       "       [ 1.17451524, -0.24376731],\n",
       "       [ 0.        ,  0.        ]])"
      ]
     },
     "execution_count": 103,
     "metadata": {},
     "output_type": "execute_result"
    }
   ],
   "source": [
    "y"
   ]
  }
 ],
 "metadata": {
  "kernelspec": {
   "display_name": "Python 3",
   "language": "python",
   "name": "python3"
  },
  "language_info": {
   "codemirror_mode": {
    "name": "ipython",
    "version": 3
   },
   "file_extension": ".py",
   "mimetype": "text/x-python",
   "name": "python",
   "nbconvert_exporter": "python",
   "pygments_lexer": "ipython3",
   "version": "3.7.7"
  }
 },
 "nbformat": 4,
 "nbformat_minor": 4
}
